{
  "cells": [
    {
      "cell_type": "markdown",
      "metadata": {
        "id": "k3zbLLaSGH6Z"
      },
      "source": [
        "## Лабораторная работа \"Введение в ML\""
      ]
    },
    {
      "cell_type": "markdown",
      "metadata": {
        "id": "SL3v975uGH6h"
      },
      "source": [
        "В этой лабораторной вы:\n",
        "\n",
        "- познакомитесь с базовыми библиотеками для работы с табличными данными — `numpy` и `pandas`\n",
        "- поближе посмотрите на простейшие задачи машинного обучения: классификацию и регрессию\n",
        "- попробуете несколько метрик и поймёте, почему выбор метрики это важно\n",
        "- обучите несколько простых моделей\n",
        "- увидите связь между сложностью модели и переобучением\n",
        "- убедитесь, что без данных всё тлен"
      ]
    },
    {
      "cell_type": "markdown",
      "metadata": {},
      "source": []
    },
    {
      "cell_type": "markdown",
      "metadata": {
        "id": "ad3nBqBSGH6j"
      },
      "source": [
        "Загрузка самых базовых библиотек:"
      ]
    },
    {
      "cell_type": "code",
      "execution_count": 1,
      "metadata": {
        "id": "Z8Iht5qhGH6l"
      },
      "outputs": [
        {
          "name": "stdout",
          "output_type": "stream",
          "text": [
            "А где катька?(\n",
            "Ура катьку пришла!\n"
          ]
        }
      ],
      "source": [
        "import numpy as np\n",
        "import pandas as pd\n",
        "import matplotlib.pyplot as plt\n",
        "# %ghimatplotlib inline\n",
        "\n",
        "from sklearn.model_selection import train_test_split\n",
        "\n",
        "print(f'А где катька?(')\n",
        "print(f'Ура катьку пришла!')"
      ]
    },
    {
      "cell_type": "markdown",
      "metadata": {
        "id": "4W8Eq0sTGH6n"
      },
      "source": [
        "### [NumPy](https://numpy.org/doc/stable/user/index.html)\n",
        "\n",
        "С 1995 numeric, с 2006 NumPy — «Numerical Python extensions» или просто «NumPy»\n",
        "\n",
        "Возможности библиотеки NumPy:\n",
        "* работать с многомерными массивами (таблицами)\n",
        "* быстро вычислять математические функций на многомерных массивах\n",
        "\n",
        "Ядро пакета NumPy — объект [ndarray](https://docs.scipy.org/doc/numpy/reference/generated/numpy.ndarray.html)\n",
        "\n",
        "**Важные отличия** между NumPy arrays и Python sequences:\n",
        "* NumPy array имеет фиксированную длину, которая определяется в момент его создания (в отличие от Python lists, которые могут расти динамически)\n",
        "* Элементы в NumPy array должны быть одного типа\n",
        "* Можно выполнять операции непосредственно над NumPy arrays\n",
        "\n",
        "**Скорость** NumPy достигается с помощью:\n",
        "* реализации на C\n",
        "* векторизации и броадкастинга (broadcasting). Например, произведение массивов совместимых форм.\n",
        "\n",
        "Теперь давайте разберёмся подробнее и сделаем что-нибудь приятное и полезное в `numpy`!"
      ]
    },
    {
      "cell_type": "markdown",
      "metadata": {
        "id": "eS3UKcU6GH6o"
      },
      "source": [
        "### Индексация"
      ]
    },
    {
      "cell_type": "markdown",
      "metadata": {
        "id": "VqBzoEfvGH6p"
      },
      "source": [
        "В NumPy работает привычная индексация Python, ура! Включая использование отрицательных индексов и срезов (slices)"
      ]
    },
    {
      "cell_type": "markdown",
      "metadata": {
        "id": "Anq_nSYTGH6q"
      },
      "source": [
        "<div class=\"alert alert-info\">\n",
        "<b>Замечание 1:</b> Индексы и срезы в многомерных массивах не нужно разделять квадратными скобками,\n",
        "т.е. вместо <b>matrix[i][j]</b> нужно использовать <b>matrix[i, j]</b>. Первое тоже работает, но сначала выдаёт строку i, потом элемент j в ней.\n",
        "</div>"
      ]
    },
    {
      "cell_type": "markdown",
      "metadata": {
        "id": "OoHXSVIrGH6q"
      },
      "source": [
        "<div class=\"alert alert-danger\">\n",
        "<b>Замечание 2:</b> Срезы в NumPy создают view, а не копии, как в случае срезов встроенных последовательностей Python (string, tuple and list).\n",
        "</div>"
      ]
    },
    {
      "cell_type": "code",
      "execution_count": 2,
      "metadata": {
        "id": "YJKxBB4dGH6s",
        "outputId": "61139b1d-46db-4f7f-d5bb-96b7c3f96284"
      },
      "outputs": [
        {
          "data": {
            "text/plain": [
              "array([[0., 0., 0.],\n",
              "       [0., 0., 0.],\n",
              "       [0., 0., 0.]])"
            ]
          },
          "execution_count": 2,
          "metadata": {},
          "output_type": "execute_result"
        }
      ],
      "source": [
        "ones_matrix = np.ones((5, 5))\n",
        "ones_submatrix_view = ones_matrix[::2,::2] # creates a view, not copy\n",
        "ones_matrix[::2,::2] = np.zeros((3, 3))\n",
        "ones_submatrix_view\n",
        "# print('----')\n",
        "# ones_matrix"
      ]
    },
    {
      "cell_type": "markdown",
      "metadata": {
        "id": "jpEF1rp2GH6v"
      },
      "source": [
        "### Ссылка на Яндекс.Контест\n",
        "\n",
        "Решения и ответы в задачах, расположенных ниже, загружайте в контест на автоматическую проверку:\n",
        "https://new.contest.yandex.ru/60376/start\n"
      ]
    },
    {
      "cell_type": "markdown",
      "metadata": {
        "id": "eZpuxPhJGH6v"
      },
      "source": [
        "**1.** Реализуйте функцию, принимающую на вход два одномерных массива `first_array` и `second_array` и возвращающую матрицу, в которой первый массив соответствует первому столбцу матрицы, второй — второму.\n",
        "\n",
        "Вероятно первое, что приходит вам на ум, это конкатенация и транспонирование:"
      ]
    },
    {
      "cell_type": "code",
      "execution_count": 3,
      "metadata": {
        "id": "hmQk1N6rGH6w"
      },
      "outputs": [],
      "source": [
        "def construct_matrix(first_array, second_array):\n",
        "    \"\"\"\n",
        "    Construct matrix from pair of arrays\n",
        "    :param first_array: first array\n",
        "    :param second_array: second array\n",
        "    :return: constructed matrix\n",
        "    \"\"\"\n",
        "    \n",
        "    # # --- var 1 ---\n",
        "    # return np.vstack([first_array, second_array]).T # <- your first right code here\n",
        "    \n",
        "    # # --- var 2 --- \n",
        "    # col1 = first_array[:, np.newaxis]\n",
        "    # col2 = second_array[:, np.newaxis]\n",
        "    \n",
        "    # constructed_matrix = np.concatenate((col1, col2), axis=1)\n",
        "    \n",
        "    # return construct_matrix\n",
        "    \n",
        "    if len(first_array) != len(second_array):\n",
        "        raise ValueError(\"не совпадают размерности\")\n",
        "    \n",
        "    constructed_matrix = []\n",
        "    \n",
        "    for el_a, el_b in zip(first_array, second_array):\n",
        "        new_row = [el_a, el_b]\n",
        "        \n",
        "        constructed_matrix.append(new_row)\n",
        "    \n",
        "    if not constructed_matrix: \n",
        "        return np.empty((0, 2))\n",
        "    else:\n",
        "        return np.array(constructed_matrix)\n",
        "     "
      ]
    },
    {
      "cell_type": "code",
      "execution_count": 4,
      "metadata": {
        "id": "TeFqyCz4GH6x",
        "outputId": "ecd0b7d3-7acf-40f2-878e-057d17136e8c",
        "scrolled": true
      },
      "outputs": [
        {
          "data": {
            "text/plain": [
              "array([[1, 3],\n",
              "       [2, 4]])"
            ]
          },
          "execution_count": 4,
          "metadata": {},
          "output_type": "execute_result"
        }
      ],
      "source": [
        "construct_matrix(np.array([1,2]),np.array([3,4]))"
      ]
    },
    {
      "cell_type": "markdown",
      "metadata": {
        "id": "lP-lmcA2GH6y"
      },
      "source": [
        "(в скобках заметим, что конкатенировать можно vertically, horizontally, depth wise методами vstack, hstack, dstack по трём осям (0, 1 и 2, соотвественно), либо в общем случае `np.concatenate` — поиграйтесь ниже с прекрасным примером четырёхмерной точки, чтобы точно всё для себя понять)"
      ]
    },
    {
      "cell_type": "code",
      "execution_count": 5,
      "metadata": {
        "id": "xguxLJ0VGH6y",
        "outputId": "2f32df14-6f5d-4800-96b5-bb8fba9c9ec0"
      },
      "outputs": [
        {
          "name": "stdout",
          "output_type": "stream",
          "text": [
            "(1, 1, 1, 1) -|- (1, 1, 1, 5)\n",
            "[[[[0]]]] -|- [[[[7 7 7 7 7]]]]\n",
            "(1, 1, 1, 6)\n"
          ]
        },
        {
          "data": {
            "text/plain": [
              "array([[[[0, 7, 7, 7, 7, 7]]]])"
            ]
          },
          "execution_count": 5,
          "metadata": {},
          "output_type": "execute_result"
        }
      ],
      "source": [
        "# arange аналог range с итератором\n",
        "p = np.arange(1).reshape([1, 1, 1, 1])\n",
        "\n",
        "a = np.full((1, 1, 1, 5), 7)\n",
        "print(p.shape, \"-|-\", a.shape)\n",
        "print(p, '-|-', a)\n",
        "p = np.concatenate([p, a], axis=3)\n",
        "print(p.shape)\n",
        "p"
      ]
    },
    {
      "cell_type": "code",
      "execution_count": 6,
      "metadata": {
        "id": "z1JFw75eGH6y",
        "outputId": "16e3c894-2e0e-4a5a-edd4-7a974cfa43e4"
      },
      "outputs": [
        {
          "name": "stdout",
          "output_type": "stream",
          "text": [
            "vstack:  (2, 1, 1, 6)\n",
            "vstack:  [[[[0 7 7 7 7 7]]]\n",
            "\n",
            "\n",
            " [[[0 7 7 7 7 7]]]]\n",
            "hstack:  (1, 2, 1, 6)\n",
            "hstack:  [[[[0 7 7 7 7 7]]\n",
            "\n",
            "  [[0 7 7 7 7 7]]]]\n",
            "dstack:  (1, 1, 2, 6)\n",
            "dstack:  [[[[0 7 7 7 7 7]\n",
            "   [0 7 7 7 7 7]]]]\n"
          ]
        }
      ],
      "source": [
        "print(\"vstack: \", np.vstack((p, p)).shape) # axis 0. 1 столбец\n",
        "print(\"vstack: \", np.vstack((p, p)))\n",
        "print(\"hstack: \", np.hstack((p, p)).shape) # axis 1. 2 столбец\n",
        "print(\"hstack: \", np.hstack((p, p)))\n",
        "print(\"dstack: \", np.dstack((p, p)).shape) # axis 2. 3 столбец\n",
        "print(\"dstack: \", np.dstack((p, p)))"
      ]
    },
    {
      "cell_type": "code",
      "execution_count": 7,
      "metadata": {
        "id": "cvbthbDDGH6z",
        "outputId": "d89430e5-8c64-4b5f-f2b3-4343f4c659ed"
      },
      "outputs": [
        {
          "name": "stdout",
          "output_type": "stream",
          "text": [
            "(1, 1, 1, 12)\n"
          ]
        },
        {
          "data": {
            "text/plain": [
              "array([[[[0, 7, 7, 7, 7, 7, 0, 7, 7, 7, 7, 7]]]])"
            ]
          },
          "execution_count": 7,
          "metadata": {},
          "output_type": "execute_result"
        }
      ],
      "source": [
        "print(np.concatenate((p, p), axis=3).shape)\n",
        "np.concatenate((p, p), axis=3)"
      ]
    },
    {
      "cell_type": "markdown",
      "metadata": {
        "id": "-5GkuWwaGH60"
      },
      "source": [
        "Но, поскольку операция транспонирования [делает массив non-contiguous](https://numpy.org/doc/stable/user/basics.copies.html#other-operations), мы в этой задаче **запретим** ей пользоваться и порекомедуем воспользоваться, например, методом [reshape](https://numpy.org/doc/stable/reference/generated/numpy.reshape.html)."
      ]
    },
    {
      "cell_type": "markdown",
      "metadata": {
        "id": "n3ce_o75GH61"
      },
      "source": [
        "**2.** Реализуйте функцию, принимающую на вход массив целых неотрицательных чисел `nums` и возвращающую самый частый элемент массива."
      ]
    },
    {
      "cell_type": "code",
      "execution_count": 8,
      "metadata": {
        "id": "XZysMovaGH61"
      },
      "outputs": [],
      "source": [
        "def most_frequent(nums):\n",
        "    \"\"\"\n",
        "    Find the most frequent value in an array\n",
        "    :param nums: array of ints\n",
        "    :return: the most frequent value\n",
        "    \"\"\"\n",
        "    freq_dict = {}\n",
        "    \n",
        "    for num in nums:\n",
        "        if num in freq_dict:\n",
        "            freq_dict[num] += 1\n",
        "        else:\n",
        "            freq_dict[num] = 1\n",
        "    \n",
        "    most_common_value = None\n",
        "    max_freq = -1\n",
        "    \n",
        "    for key, value in freq_dict.values():\n",
        "        if value > max_freq:\n",
        "            max_freq = value\n",
        "            most_common_value = key\n",
        "    \n",
        "    return most_common_value"
      ]
    },
    {
      "cell_type": "markdown",
      "metadata": {
        "id": "e6kjITZMGH62"
      },
      "source": [
        "### Переходим к работе с данными\n",
        "\n",
        "Прежде всего, загрузим данные и сделаем из них красивые pandas-таблички. Они взяты из параллели RecSys соревнования https://yandex.ru/cup/ml/. Но мы будем иметь дело не со всеми данными, а только с их частью. Данные у нас будут про заведения общественного питания (больше бюрократический терминологии!)\n",
        "\n",
        "Файлы с данными можно найти [здесь](https://disk.yandex.ru/d/YWvCNRQMb7QSQA).\n",
        "\n",
        "Задачей будет **предсказание среднего чека** (average_bill) по некоторым другим свойствам заведения."
      ]
    },
    {
      "cell_type": "code",
      "execution_count": 9,
      "metadata": {
        "id": "yJPF3OclGH62"
      },
      "outputs": [],
      "source": [
        "base = 'tables/'"
      ]
    },
    {
      "cell_type": "code",
      "execution_count": 10,
      "metadata": {
        "id": "uzDIu6uXGH62"
      },
      "outputs": [],
      "source": [
        "data = pd.read_csv(base + 'organisations.csv')\n",
        "features = pd.read_csv(base + 'features.csv')\n",
        "rubrics = pd.read_csv(base + 'rubrics.csv')"
      ]
    },
    {
      "cell_type": "markdown",
      "metadata": {
        "id": "k-AwDM7bGH63"
      },
      "source": [
        "В основном мы будем работать с табличкой `data`; остальное вам может пригодиться, если вы захотите знать, какое содержание стоит за кодами признаков."
      ]
    },
    {
      "cell_type": "markdown",
      "metadata": {
        "id": "4hrvEN_3GH63"
      },
      "source": [
        "## Изучение данных"
      ]
    },
    {
      "cell_type": "markdown",
      "metadata": {
        "id": "PI9YQMuCGH63"
      },
      "source": [
        "Посмотрите на данные. В этом вам поможет метод ``head`` pandas-таблички."
      ]
    },
    {
      "cell_type": "code",
      "execution_count": 11,
      "metadata": {
        "id": "VA_0DG29GH64"
      },
      "outputs": [
        {
          "name": "stdout",
          "output_type": "stream",
          "text": [
            "                 org_id city  average_bill    rating   rubrics_id  \\\n",
            "0  15903868628669802651  msk        1500.0  4.270968  30776 30774   \n",
            "1  16076540698036998306  msk         500.0  4.375000        30771   \n",
            "2   8129364761615040323  msk         500.0  4.000000        31495   \n",
            "3  15262729117594253452  msk         500.0  4.538813  30776 30770   \n",
            "4  13418544315327784420  msk         500.0  4.409091        31495   \n",
            "\n",
            "                                         features_id  \n",
            "0  3501685156 3501779478 20422 3502045016 3502045...  \n",
            "1  1509 1082283206 273469383 10462 11617 35017794...  \n",
            "2  10462 11177 11617 11629 1416 1018 11704 11867 ...  \n",
            "3  3501618484 2020795524 11629 11617 1018 11704 2...  \n",
            "4  11617 10462 11177 1416 11867 3501744275 20282 ...  \n",
            "   feature_id                           feature_name\n",
            "0           1  prepress_and_post_printing_processing\n",
            "1          40                               products\n",
            "2          54                        printing_method\n",
            "3          77                                   fuel\n",
            "4          79                                   shop\n",
            "   rubric_id        rubric_name\n",
            "0      30519  Булочная, пекарня\n",
            "1      30770           Бар, паб\n",
            "2      30771    Быстрое питание\n",
            "3      30774               Кафе\n",
            "4      30775           Пиццерия\n"
          ]
        }
      ],
      "source": [
        "# <Your code here>\n",
        "print(data.head())\n",
        "print(features.head())\n",
        "print(rubrics.head())"
      ]
    },
    {
      "cell_type": "markdown",
      "metadata": {
        "id": "GN9kZbURGH64"
      },
      "source": [
        "Полезно посмотреть внимательнее на то, с какими признаками нам предстоит работать.\n",
        "\n",
        "* **org_id** вам не понадобится;\n",
        "* **city** - город, в котором находится заведение (``msk`` или ``spb``);\n",
        "* **average_bill** - средний чек в заведении - он будет нашим таргетом;\n",
        "* **rating** - рейтинг заведения;\n",
        "* **rubrics_id** - тип заведения (или несколько типов). Соответствие кодов каким-то человекочитаемым типам живёт в табличке ``rubrics``\n",
        "* **features_id** - набор неких фичей заведения. Соответствие кодов каким-то человекочитаемым типам живёт в табличке ``features``\n",
        "\n",
        "Обратите внимание, что **rubrics_id** и **features_id** - это не списки, а разделённые пробелами строки. Когда вам захочется работать с отдельными фичами из мешка фичей для данного заведения, вам придётся всё-таки превратить их в списки (здесь поможет метод `split` для строк)."
      ]
    },
    {
      "cell_type": "markdown",
      "metadata": {
        "id": "J0IJIWz3GH64"
      },
      "source": [
        "Чтобы быстро восстанавливать по рубрикам и фичам их нормальные названия, сделайте словари вида ``код_фичи:название_фичи``"
      ]
    },
    {
      "cell_type": "code",
      "execution_count": 12,
      "metadata": {
        "id": "8KwKEKr7GH65"
      },
      "outputs": [],
      "source": [
        "# <Your code here>\n",
        "rubric_dict = {}\n",
        "\n",
        "# rubric_dict = rubrics.set_index('rubric_id')['rubric_name'].to_dict()\n",
        "\n",
        "for rubric_id, rubric_name in zip(rubrics['rubric_id'], rubrics['rubric_name']):\n",
        "    rubric_dict[rubric_id] = rubric_name"
      ]
    },
    {
      "cell_type": "markdown",
      "metadata": {
        "id": "DNd4PkyQGH65"
      },
      "source": [
        "Посмотрим, какими бывают типы заведений:"
      ]
    },
    {
      "cell_type": "code",
      "execution_count": 13,
      "metadata": {
        "id": "8WhaPPEeGH65",
        "outputId": "aaf9cc8c-64ae-4bac-d8f8-6dd4d03033d8",
        "scrolled": false
      },
      "outputs": [
        {
          "data": {
            "text/plain": [
              "{30519: 'Булочная, пекарня',\n",
              " 30770: 'Бар, паб',\n",
              " 30771: 'Быстрое питание',\n",
              " 30774: 'Кафе',\n",
              " 30775: 'Пиццерия',\n",
              " 30776: 'Ресторан',\n",
              " 30777: 'Столовая',\n",
              " 31286: 'Спортбар',\n",
              " 31350: 'Кондитерская',\n",
              " 31375: 'Суши-бар',\n",
              " 31401: 'Кальян-бар',\n",
              " 31495: 'Кофейня',\n",
              " 3108292683: 'Бар безалкогольных напитков',\n",
              " 3501514558: 'Фудкорт',\n",
              " 3501750896: 'Кофе с собой'}"
            ]
          },
          "execution_count": 13,
          "metadata": {},
          "output_type": "execute_result"
        }
      ],
      "source": [
        "rubric_dict"
      ]
    },
    {
      "cell_type": "markdown",
      "metadata": {
        "id": "qA6Bm_8EGH66"
      },
      "source": [
        "Мы что-то поняли про признаки, которыми нам предстоит пользоваться. Теперь время посмотреть на таргет. Вооружившись функциями ``hist`` и ``scatter`` из библиотеки ``matplotlib``, а также методом ``isna`` для pandas-таблиц разберитесь, какие значения принимают таргеты, есть ли там там выбросы, пропуски или ещё какие-то проблемы.\n",
        "\n",
        "&nbsp;\n",
        "\n",
        "<details>\n",
        "  <summary>Когда будете готовы, кликните сюда, чтобы посмотреть ответ</summary>\n",
        "    <ol>\n",
        "      <li>Среди таргетов довольно много пропусков;</li>\n",
        "      <li>Все таргеты - это числа, кратные 500;</li>\n",
        "      <li>Есть какие-то адские значения, превышающие 100 000 (видимо, выбросы);</li>\n",
        "      <li>В целом, число ресторанов с данным средним чеком быстро падает с ростом среднего чека. Для средних чеков, больших 2500, заведений уже совсем мало. Примерно у 2/3 заведений средний чек 500.</li>\n",
        "    </ol>\n",
        "</details>"
      ]
    },
    {
      "cell_type": "code",
      "execution_count": 14,
      "metadata": {
        "id": "f6bg-kmIGH66",
        "outputId": "69beeb66-b7aa-4905-bc73-59a6ab27edf3",
        "scrolled": true
      },
      "outputs": [
        {
          "name": "stdout",
          "output_type": "stream",
          "text": [
            "isna:  org_id  city   average_bill  rating  rubrics_id  features_id\n",
            "False   False  False         False   False       False          28324\n",
            "               True          False   False       False          20814\n",
            "                             True    False       True            5579\n",
            "                             False   False       True            5470\n",
            "               False         True    False       False           4454\n",
            "               True          True    False       False           3698\n",
            "Name: count, dtype: int64 \n",
            "\n",
            "avg_bill:  average_bill\n",
            "True     35561\n",
            "False    32778\n",
            "Name: count, dtype: int64 \n",
            "\n",
            "count    3.277800e+04\n",
            "mean     1.135075e+03\n",
            "std      4.163250e+04\n",
            "min      5.000000e+02\n",
            "25%      5.000000e+02\n",
            "50%      5.000000e+02\n",
            "75%      1.000000e+03\n",
            "max      7.502000e+06\n",
            "Name: average_bill, dtype: float64\n",
            "0    1500.0\n",
            "1     500.0\n",
            "2     500.0\n",
            "3     500.0\n",
            "4     500.0\n",
            "5     500.0\n",
            "6     500.0\n",
            "7     500.0\n",
            "8     500.0\n",
            "9     500.0\n",
            "Name: average_bill, dtype: float64\n"
          ]
        }
      ],
      "source": [
        "print('isna: ', data.isna().value_counts(), '\\n')\n",
        "print('avg_bill: ', data['average_bill'].isna().value_counts(), '\\n')\n",
        "print(data['average_bill'].describe())\n",
        "\n",
        "print(data['average_bill'].head(10))"
      ]
    },
    {
      "cell_type": "markdown",
      "metadata": {
        "id": "trfl5F_4GH66"
      },
      "source": [
        "**Базовая очистка данных**\n",
        "\n",
        "Раз есть треш, давайте чистить данные.\n",
        "\n",
        "С пропусками можно бороться по-разному (даже и с пропусками в таргете), но пока мы сделаем самую простую вещь: дропнем все заведения, для которых мы не знаем средний чек.\n",
        "\n",
        "Уберите из них все заведения, у которых средний чек неизвестен или превышает 2500. Пока есть опасение, что их слишком мало, чтобы мы смогли обучить на них что-нибудь.\n",
        "\n",
        "**3. Введите в Контест количество заведений, которое у вас получилось после очистки**.\n",
        "\n",
        "Дальше мы будем работать с очищенными данными."
      ]
    },
    {
      "cell_type": "code",
      "execution_count": 15,
      "metadata": {
        "id": "OxIkRsA1GH67"
      },
      "outputs": [
        {
          "name": "stdout",
          "output_type": "stream",
          "text": [
            "<class 'pandas.core.frame.DataFrame'>\n",
            "Index: 32136 entries, 0 to 68332\n",
            "Data columns (total 5 columns):\n",
            " #   Column        Non-Null Count  Dtype  \n",
            "---  ------        --------------  -----  \n",
            " 0   city          32136 non-null  object \n",
            " 1   average_bill  32136 non-null  float64\n",
            " 2   rating        27818 non-null  float64\n",
            " 3   rubrics_id    32136 non-null  object \n",
            " 4   features_id   32136 non-null  object \n",
            "dtypes: float64(2), object(3)\n",
            "memory usage: 1.5+ MB\n"
          ]
        }
      ],
      "source": [
        "# <Your code here>\n",
        "df = data.drop(\"org_id\", axis=1).copy()\n",
        "\n",
        "df = df.dropna(subset=['average_bill'], axis=0)\n",
        "df = df[df['average_bill'] <= 2500].copy()\n",
        "\n",
        "df.info()"
      ]
    },
    {
      "cell_type": "markdown",
      "metadata": {
        "id": "GsNzGAp1GH67"
      },
      "source": [
        "**4. Посчитайте и введите в Контест разность между средними арифметическими average_bill в кафе Москвы и Санкт-Петербурга. Округлите ответ до целого.**\n",
        "\n",
        "&nbsp;\n",
        "\n",
        "<details>\n",
        "  <summary>Небольшая подсказка</summary>\n",
        "  Примените часто используемый метод groupby.\n",
        "</details>"
      ]
    },
    {
      "cell_type": "code",
      "execution_count": 16,
      "metadata": {
        "id": "gLdl3zVCGH67"
      },
      "outputs": [
        {
          "name": "stdout",
          "output_type": "stream",
          "text": [
            "msk: 792.89, spb: 676.45\n",
            "116.43756751957676\n"
          ]
        }
      ],
      "source": [
        "# <Your code here>\n",
        "\n",
        "msk_data = df[df['city'] == 'msk'].copy()\n",
        "spb_data = df[df['city'] == 'spb'].copy()\n",
        "\n",
        "avg_bill_msk = msk_data['average_bill'].mean()\n",
        "avg_bill_spb = spb_data['average_bill'].mean()\n",
        "\n",
        "print(f'msk: {avg_bill_msk:.2f}, spb: {avg_bill_spb:.2f}')\n",
        "print(avg_bill_msk - avg_bill_spb)"
      ]
    },
    {
      "cell_type": "code",
      "execution_count": 17,
      "metadata": {},
      "outputs": [
        {
          "name": "stdout",
          "output_type": "stream",
          "text": [
            "msk: 0.12, spb: -0.12\n",
            "<class 'pandas.core.frame.DataFrame'>\n",
            "RangeIndex: 15 entries, 0 to 14\n",
            "Data columns (total 2 columns):\n",
            " #   Column       Non-Null Count  Dtype \n",
            "---  ------       --------------  ----- \n",
            " 0   rubric_id    15 non-null     int64 \n",
            " 1   rubric_name  15 non-null     object\n",
            "dtypes: int64(1), object(1)\n",
            "memory usage: 372.0+ bytes\n",
            "\n",
            "rest: 995.47\n",
            "pub: 814.24\n"
          ]
        }
      ],
      "source": [
        "is_msk = (df['city'] == 'msk').astype(int)\n",
        "corr_val_msk = df['average_bill'].corr(is_msk)\n",
        "\n",
        "is_spb = (df['city'] == 'spb').astype(int)\n",
        "corr_val_spb = df['average_bill'].corr(is_spb)\n",
        "\n",
        "print(f'msk: {corr_val_msk:.2f}, spb: {corr_val_spb:.2f}')\n",
        "\n",
        "rubrics.info()\n",
        "\n",
        "is_restaurant_mask = df['rubrics_id'].str.contains('30776', na=False)\n",
        "is_pub_mask = df['rubrics_id'].str.contains('30770', na=False)\n",
        "\n",
        "avg_restaurant_bill = df[is_restaurant_mask]['average_bill'].mean()\n",
        "avg_pub_bill = df[is_pub_mask]['average_bill'].mean()\n",
        "\n",
        "print(f\"\\nrest: {avg_restaurant_bill:,.2f}\")\n",
        "print(f\"pub: {avg_pub_bill:,.2f}\")"
      ]
    },
    {
      "cell_type": "code",
      "execution_count": 18,
      "metadata": {},
      "outputs": [
        {
          "name": "stdout",
          "output_type": "stream",
          "text": [
            "msk: 0.12, spb: -0.12\n",
            "<class 'pandas.core.frame.DataFrame'>\n",
            "RangeIndex: 15 entries, 0 to 14\n",
            "Data columns (total 2 columns):\n",
            " #   Column       Non-Null Count  Dtype \n",
            "---  ------       --------------  ----- \n",
            " 0   rubric_id    15 non-null     int64 \n",
            " 1   rubric_name  15 non-null     object\n",
            "dtypes: int64(1), object(1)\n",
            "memory usage: 372.0+ bytes\n",
            "\n",
            "rest: 995.47\n",
            "pub: 814.24\n"
          ]
        }
      ],
      "source": [
        "is_msk = (df['city'] == 'msk').astype(int)\n",
        "corr_val_msk = df['average_bill'].corr(is_msk)\n",
        "\n",
        "is_spb = (df['city'] == 'spb').astype(int)\n",
        "corr_val_spb = df['average_bill'].corr(is_spb)\n",
        "\n",
        "print(f'msk: {corr_val_msk:.2f}, spb: {corr_val_spb:.2f}')\n",
        "\n",
        "rubrics.info()\n",
        "\n",
        "is_restaurant_mask = df['rubrics_id'].str.contains('30776', na=False)\n",
        "is_pub_mask = df['rubrics_id'].str.contains('30770', na=False)\n",
        "\n",
        "avg_restaurant_bill = df[is_restaurant_mask]['average_bill'].mean()\n",
        "avg_pub_bill = df[is_pub_mask]['average_bill'].mean()\n",
        "\n",
        "print(f\"\\nrest: {avg_restaurant_bill:,.2f}\")\n",
        "print(f\"pub: {avg_pub_bill:,.2f}\")"
      ]
    },
    {
      "cell_type": "markdown",
      "metadata": {
        "id": "Qncnmi8bGH7F"
      },
      "source": [
        "Давайте ещё немного поизучаем данные. Ответьте на вопросы:\n",
        "\n",
        "1. Есть ли разница между средними чеками в Москве и Санкт-Петербурге?\n",
        "2. Коррелирует ли средний чек с рейтингом?\n",
        "3. Есть ли разница в среднем чеке между ресторанами и пабами (см. соответствующие типы из ``rubrics``)?\n",
        "\n",
        "&nbsp;\n",
        "\n",
        "<details>\n",
        "  <summary>Когда будете готовы, кликните сюда, чтобы посмотреть ответ</summary>\n",
        "    <ol>\n",
        "      <li>В целом, да. Вы могли бы сравнить средние (в Москве больше) или медианы (они равны, потому что уж больно много где средний чек 500). Этого, конечно, мало для того, чтобы сделать вывод. Нужно проверять какие-то статические критерии, которые изучаются в курсе по статистике. Не будем останавливаться на этом подробно. Поскольку данные совсем не нормальные, никакой t-тест не сработает; мы бы предложили использовать критерий Манна-Уитни (см. википедию и функцию mannwhitneyu из библиотеки scipy.stats).</li>\n",
        "      <li>Какая-то корреляция между ними есть но уж больно неубедительная (рекомендуем построим на одном графике boxplot рейтинга по каждому значению среднего чека для визуализации). Конечно, дна становится меньше с ростом среднего чека, но, видимо, в предсказании это особо не используешь;</li>\n",
        "      <li>Несомненно, в ресторанах средний чек выше. Это и невооружённым глазом видно, и с помощью критерия Манна-Уитни можно проверить.</li>\n",
        "    </ol>\n",
        "</details>"
      ]
    },
    {
      "cell_type": "markdown",
      "metadata": {
        "id": "ATY5075lGH7F"
      },
      "source": [
        "## Формулируем задачу"
      ]
    },
    {
      "cell_type": "markdown",
      "metadata": {
        "id": "znpEgJGIGH7F"
      },
      "source": [
        "Прежде, чем решать задачу, её надо сформулировать.\n",
        "\n",
        "**Вопрос первый**: это классификация или регрессия? Подумайте над этим.\n",
        "\n",
        "&nbsp;\n",
        "\n",
        "<details>\n",
        "  <summary>Когда будете готовы, кликните сюда, чтобы посмотреть ответ</summary>\n",
        "    Ответ не столь однозначен, как хотелось бы. С одной стороны, таргет принимает всего четыре значения, и потому это может быть классификацией с 4 классами. С другой стороны, таргеты - это не абстрактные \"треугольник\", \"круг\", \"квадрат\", а вещественные числа, и когда мы вместо 500 предсказываем 2500, это явно хуже, чем вместо 1500 предсказать 2000. В целом, задачу можно решать и так, и так; мы будем смотреть на метрики обеих задач.\n",
        "</details>"
      ]
    },
    {
      "cell_type": "markdown",
      "metadata": {
        "id": "aaVuazxsGH7G"
      },
      "source": [
        "**Вопрос второй**: какие метрики мы будем использовать для оценки качества решения? Какие метрики вы предложили бы для этой задачи как для задачи классификации? А для этой задачи, как для задачи регрессии?\n",
        "\n",
        "&nbsp;\n",
        "\n",
        "<details>\n",
        "  <summary>Когда будете готовы, кликните сюда, чтобы посмотреть ответ</summary>\n",
        "    \n",
        "    Начнём с классификации. Метрика accuracy не очень хороша из-за несбалансированности классов. Действительно, классификатор, который всегда говорит 500, будет иметь accuracy примерно 0.66, хотя это никак не отражает практическую ценность модели. Как мы увидим, самая большая проблема будет заключаться в том, чтобы научиться выделять заведения с большими чеками, а их меньше всего и в accuracy они вносят самый маленький вклад. Есть разные способы с этим бороться, один -- использовать sklearn.metrics.balanced_accuracy_score. Его идея, грубо говоря, в том, чтобы по каждому классу найти, какая доля объектов этого класса правильно классифицирована, а потом эти доли усреднить. Тогда у бессмысленного классификатора, который всем ставит 500, будет скор 1/5 (ведь классов 5), а чтобы получить прежние 2/3, нужно будет научиться в каждом классе правильно ставить хотя бы 2/3 меток.    \n",
        "    \n",
        "    Теперь что касается регрессии. Основых метрики две - MSE и MAE. Из первой стоит извлекать корень, чтобы получать интерпретируемые человеком значения, а вторая менее агрессивна к выбросам (впрочем, выбросов тут уже нет, мы их все выкинули). Без дополнительной информации не очень понятно, какую выбирать, можно брать любую. А выбирать надо: ведь даже банальные модели \"предсказывай всегда среднее\" и \"предсказывай всегда медиану\" будут по-разному ранжироваться этими метриками.\n",
        "    \n",
        "</details>"
      ]
    },
    {
      "cell_type": "markdown",
      "metadata": {
        "id": "vs-jkCj-GH7G"
      },
      "source": [
        "**Вопрос третий**: а не взять ли нам какую-нибудь более экзотическую метрику? Например, MAPE (определение в учебнике в главе про оценку качества моделей). А как вам такое соображение: допустим, заказчик говорит, что пользователи будут расстраиваться, только если мы завысили средний чек - так давайте поправим MSE или MAE, обнуляя те слагаемые, для которых предсказанный таргет меньше истинного. Вот это хорошая метрика или нет?\n",
        "\n",
        "&nbsp;\n",
        "\n",
        "<details>\n",
        "  <summary>Когда будете готовы, кликните сюда, чтобы посмотреть ответ</summary>\n",
        "    \n",
        "    Что касается MAPE, у нас нет тех проблем, с которой она борется. Вот если бы у нас были средние чеки от 500 до миллиона, мы бы столкнулись с ситуацией, что большие ошибки для больших чеков доминировали бы в сумме для MSE и MAE (500 вместо 1000 меркнет по сравнению с 500к вместо миллиона). Говоря поэтически, мы бы оптимизировали модель для миллионеров, забыв про простых трудяг. И было бы логично перейти от парадигмы \"ошибаемся на 500 рублей\" к парадигме \"ошибаемся на 50%\". Но у нас все таргеты примерно одного порядка, MAPE нам особо ни к чему.\n",
        "    \n",
        "    Вторая метрика коварна тем, что её можно \"накрутить\" безо всякой пользы для дела. А именно, модель, которая всегда предсказывает средний чек в миллион, была бы идеальна. Но все бы расстраивались и не ходили есть. Другое дело, что можно ввести разные веса для ошибок в большую и в меньшую сторону, но опять же - пока нет показаний к тому, что это нужно.\n",
        "    \n",
        "</details>"
      ]
    },
    {
      "cell_type": "markdown",
      "metadata": {
        "id": "VCjV_SoAGH7G"
      },
      "source": [
        "## Применяем ML"
      ]
    },
    {
      "cell_type": "markdown",
      "metadata": {
        "id": "lqkvcLSPGH7G"
      },
      "source": [
        "Теперь время разбить данные на обучающую и тестовую выборку. Делается это с помощью функции ``train_test_split`` из пакета ``sklearn``. При этом очень важно сделать две вещи:\n",
        "\n",
        "* Зафиксировать ``random_state=42`` (да, именно этот, а то ваши модели могут не зайти в Контест), чтобы всё, что мы делаем, было воспроизводимо (иначе от перезапуска к перезапуску числа могут меняться, и мы не будем понимать, из-за чего это происходит).\n",
        "* Сделать стратификацию по таргету. В противном случае у нас в трейне и тесте могут оказаться разные пропорции классов (обычно особенно страдают мало представленные классы), что неутешительно скажется на результате.\n",
        "\n",
        "**Обратите внимание**, что если вы побьёте выборку на train и test по-другому, ваши результаты могут не зайти в контест."
      ]
    },
    {
      "cell_type": "code",
      "execution_count": 19,
      "metadata": {
        "id": "AF2IVpOjGH7H"
      },
      "outputs": [],
      "source": [
        "clean_data = df\n",
        "\n",
        "clean_data_train, clean_data_test = train_test_split(\n",
        "    clean_data, stratify=clean_data['average_bill'], test_size=0.33, random_state=42)"
      ]
    },
    {
      "cell_type": "markdown",
      "metadata": {
        "id": "S161veFJGH7H"
      },
      "source": [
        "Теперь нам нужен **бейзлайн** - очень простая модель, с которой мы в дальнейшем будем сравниваться.\n",
        "\n",
        "Поскольку мы ещё не знаем никаких умных классов моделей, все модели мы будем писать руками. А именно, мы напишем две простых модели на основе ``sklearn.baseRegressorMixin`` и ``sklearn.base.ClassifierMixin`` (посмотрите примеры в документации sklearn и сделайте так же):\n",
        "\n",
        "* Модель для задачи регрессии, которая для всех заведений предсказывает одно число — среднее значение среднего чека;\n",
        "* Модель для задачи классификации, которая для всех заведений предсказывает один класс — самый частый класс (ироничным образом он в данном случае совпадает с медианой).\n",
        "\n",
        "**Важно!** Мы будем много раз повторять вам мантру о том, что **информация из тестовой выборки не должна протекать в процесс обучения**. Так вот, и среднее, и самый частый класс вы должны считать именно на обучающей выборке!\n",
        "\n",
        "**5 и 6. Напишите эти две модели и сдайте в Контест**. В процессе проверки модели будут и обучаться, и предсказывать.\n",
        "\n",
        "Заметим, что для этих моделей нам вообще не нужны какие-то \"фичи\"; мы работаем только с таргетом.\n",
        "\n",
        "У каждой модели есть (как минимум) два метода: `fit` (обучает модель по фичам `X` и таргету `y`) `predict` (предсказывает по фичам `X`)"
      ]
    },
    {
      "cell_type": "code",
      "execution_count": 20,
      "metadata": {
        "id": "lLz_sxtUGH7H"
      },
      "outputs": [],
      "source": [
        "from scipy.stats import mode\n",
        "\n",
        "from sklearn.base import RegressorMixin\n",
        "\n",
        "class MeanRegressor(RegressorMixin):\n",
        "    # Predicts the mean of y_train\n",
        "    def fit(self, X=None, y=None):\n",
        "        '''\n",
        "        Parameters\n",
        "        ----------\n",
        "        X : array like, shape = (n_samples, n_features)\n",
        "        Training data features\n",
        "        y : array like, shape = (_samples,)\n",
        "        Training data targets\n",
        "        '''\n",
        "        # YOUR CODE HERE\n",
        "        self.mean_ = np.mean(y)\n",
        "        return self\n",
        "\n",
        "    def predict(self, X=None):\n",
        "        '''\n",
        "        Parameters\n",
        "        ----------\n",
        "        X : array like, shape = (n_samples, n_features)\n",
        "        Data to predict\n",
        "        '''\n",
        "        # YOUR CODE HERE\n",
        "        return np.full(len(X), self.mean_)\n",
        "\n",
        "from sklearn.base import ClassifierMixin\n",
        "\n",
        "class MostFrequentClassifier(ClassifierMixin):\n",
        "    # Predicts the rounded (just in case) median of y_train\n",
        "    def fit(self, X=None, y=None):\n",
        "        '''\n",
        "        Parameters\n",
        "        ----------\n",
        "        X : array like, shape = (n_samples, n_features)\n",
        "        Training data features\n",
        "        y : array like, shape = (_samples,)\n",
        "        Training data targets\n",
        "        '''\n",
        "        # YOUR CODE HERE\n",
        "        y = np.asarray(y) \n",
        "        \n",
        "        if len(y) == 0:\n",
        "            self.mode_ = None \n",
        "        else:\n",
        "            self.mode_ = mode(y)[0].ravel()[0]\n",
        "            \n",
        "        return self\n",
        "\n",
        "    def predict(self, X=None):\n",
        "        '''\n",
        "        Parameters\n",
        "        ----------\n",
        "        X : array like, shape = (n_samples, n_features)\n",
        "        Data to predict\n",
        "        '''\n",
        "        # YOUR CODE HERE\n",
        "        return np.full(len(X), self.mode_)\n",
        "    "
      ]
    },
    {
      "cell_type": "markdown",
      "metadata": {
        "id": "lo2pNhVoGH7I"
      },
      "source": [
        "Обучим наши модели"
      ]
    },
    {
      "cell_type": "code",
      "execution_count": 21,
      "metadata": {
        "id": "arXlaGnTGH7I"
      },
      "outputs": [
        {
          "name": "stdout",
          "output_type": "stream",
          "text": [
            "RMSE (MeanRegressor): 448.71\n",
            "RMSE (MostFrequentClassifier): 514.7517\n",
            "Balanced Accuracy (MostFrequentClassifier): 0.2000\n"
          ]
        }
      ],
      "source": [
        "X_train, X_test = clean_data_train.drop(columns='average_bill', axis=1), clean_data_test.drop(columns='average_bill', axis=1)\n",
        "y_train, y_test = clean_data_train['average_bill'], clean_data_test['average_bill']\n",
        "\n",
        "from sklearn.metrics import mean_squared_error, balanced_accuracy_score\n",
        "\n",
        "reg = MeanRegressor()\n",
        "reg.fit(X=X_train, y=y_train)\n",
        "\n",
        "y_pred_reg = reg.predict(X_test)\n",
        "rmse_reg = np.sqrt(mean_squared_error(y_test, y_pred_reg))\n",
        "\n",
        "clf = MostFrequentClassifier()\n",
        "clf.fit(X=X_train, y=y_train)\n",
        "\n",
        "y_pred_clf = clf.predict(X_test)\n",
        "rmse_clf = np.sqrt(mean_squared_error(y_test, y_pred_clf))\n",
        "bacc_clf = balanced_accuracy_score(y_test, y_pred_clf)\n",
        "\n",
        "print(f\"RMSE (MeanRegressor): {rmse_reg:,.2f}\")\n",
        "print(f\"RMSE (MostFrequentClassifier): {rmse_clf:.4f}\")\n",
        "print(f\"Balanced Accuracy (MostFrequentClassifier): {bacc_clf:.4f}\")"
      ]
    },
    {
      "cell_type": "markdown",
      "metadata": {
        "id": "jJG8x0tmGH7I"
      },
      "source": [
        "Обучите модели и оцените их качество на тестовой выборке. В качестве метрик возьмём RMSE (``np.sqrt`` от ``sklearn.metrics.mean_squared_error``) и ``sklearn.metrics.balanced_accuracy_score``.\n",
        "\n",
        "Для регрессионной модели имеет смысл считать только RMSE (значения будут не кратны 500, точно мы угадывать не будем никогда), а вот для классификационной можно найти обе метрики. Сделайте это. Какая модель оказалась лучше по RMSE?"
      ]
    },
    {
      "cell_type": "markdown",
      "metadata": {
        "id": "kvZwp54sGH7J"
      },
      "source": [
        "<details>\n",
        "  <summary>Когда будете готовы, кликните сюда</summary>\n",
        "    \n",
        "  Казалось бы, регрессор никогда не угадывает, но он в каком-то смысле лучше классификатора - справедливо ли это? Возможно. Несуществующий пользователь модели вряд ли будет задавать вопросы \"почему средний чек не кратен 500?\" Ну, выдали около 800 - ок, понятно.\n",
        "    \n",
        "</details>"
      ]
    },
    {
      "cell_type": "markdown",
      "metadata": {
        "id": "V-1-O9GyGH7J"
      },
      "source": [
        "## Усложнение модели"
      ]
    },
    {
      "cell_type": "markdown",
      "metadata": {
        "id": "dGWgxl0VGH7J"
      },
      "source": [
        "Бейзлайны будут нашей отправной точкой. Строя дальнейшие модели, мы будем спрашивать себя: получилось ли лучше бейзлайна? Если нет или если не особо, то в чём смысл усложнения?"
      ]
    },
    {
      "cell_type": "markdown",
      "metadata": {
        "id": "9w3DkuuFGH7K"
      },
      "source": [
        "Начнём с использования фичи ``city``. Мы уже видели, что в разных городах и средние чеки разные. Легко проверить, что *медиана* средних чеков всё же одна и та же и в Москве, и в Санкт-Петербурге (ох уж этот вездесущий средний чек 500!), поэтому с классификатором мы ничего не сделаем. Но вот регрессор можно попробовать починить.\n",
        "\n",
        "**7. Напишите регрессор, для каждого заведения предсказывающий среднее значение в том же городе (на обучающей выборке, конечно) и сдайте его в Контест**. Вам может помочь то, что булевы `pandas` и `numpy` столбцы можно умножать на численные — в такой ситуации False работает, как ноль, а True как единица."
      ]
    },
    {
      "cell_type": "code",
      "execution_count": 22,
      "metadata": {
        "id": "ZULQVPe2GH7K"
      },
      "outputs": [],
      "source": [
        "from sklearn.base import RegressorMixin\n",
        "\n",
        "class CityMeanRegressor(RegressorMixin):\n",
        "    def __init__(self):\n",
        "        self.city_means_ = {}\n",
        "        self.global_mean_ = None\n",
        "    \n",
        "    def fit(self, X=None, y=None):\n",
        "        # YOUR CODE HERE\n",
        "        if 'city' not in X.columns:\n",
        "            raise ValueError('...')\n",
        "\n",
        "        X_df = pd.DataFrame(X).copy()\n",
        "        y_series = pd.Series(y).copy()\n",
        "        \n",
        "        data_train = X_df.assign(target=y_series)\n",
        "        \n",
        "        self.global_mean_ = data_train['target'].mean()\n",
        "        self.city_means_ = data_train.groupby('city')['target'].mean().to_dict()\n",
        "        \n",
        "        return self\n",
        "        \n",
        "    def predict(self, X=None):\n",
        "        # YOUR CODE HERE\n",
        "        X_df = pd.DataFrame(X).copy()\n",
        "        \n",
        "        predictions = X_df['city'].map(self.city_means_).fillna(self.global_mean_)\n",
        "        \n",
        "        return predictions.values"
      ]
    },
    {
      "cell_type": "markdown",
      "metadata": {
        "id": "1EeFGk24GH7K"
      },
      "source": [
        "Обучите регрессор и сравните его по метрике RMSE с бейзлайнами. Получилось ли улучшить метрику?"
      ]
    },
    {
      "cell_type": "code",
      "execution_count": 23,
      "metadata": {},
      "outputs": [
        {
          "name": "stdout",
          "output_type": "stream",
          "text": [
            "RMSE (CityMeanRegressor): 445.18\n",
            "RMSE (CityMeanRegressor): 445.11\n",
            "RMSE (MeanRegressor): 448.71\n"
          ]
        }
      ],
      "source": [
        "city_reg = CityMeanRegressor()\n",
        "city_reg.fit(X=X_train, y=y_train)\n",
        "\n",
        "y_pred_train_reg = city_reg.predict(X_train)\n",
        "y_pred_test_reg = city_reg.predict(X_test)\n",
        "\n",
        "rmse_train_reg = np.sqrt(mean_squared_error(y_train, y_pred_train_reg))\n",
        "rmse_test_reg = np.sqrt(mean_squared_error(y_test, y_pred_test_reg))\n",
        "\n",
        "print(f\"RMSE (CityMeanRegressor): {rmse_train_reg:,.2f}\")\n",
        "print(f\"RMSE (CityMeanRegressor): {rmse_test_reg:,.2f}\")\n",
        "print(f\"RMSE (MeanRegressor): {rmse_reg:,.2f}\")"
      ]
    },
    {
      "cell_type": "markdown",
      "metadata": {
        "id": "jROycei1GH7L"
      },
      "source": [
        "Лучше стало, но, правда, не очень сильно. В этот момент очень важно не просто радовать руководителя приростом в третьем знаке, но и думать о том, что происходит.\n",
        "\n",
        "Средний средний чек по Москве равен 793, в Санкт-Петербурге - 676, а в целом - 752 рубля. MSE, увы, не поможет вам ответить на вопрос, стало ли лучше пользователю, если вы ему вместо 752 рублей назвали 793. Здесь вскрывается весьма существенный порок MSE в этой задаче. Дело в том, что наш изначальный таргет делит заведения на некоторые \"ценовые категории\", и различие в средних чеках 500 и 1000 в самом деле существенно. Наверное, мы хотели бы как раз правильно предсказывать ценовые категории. Но MSE не очень помогает нам об этом судить. Дальше мы ещё подумаем, как это исправить.\n",
        "\n",
        "В любом случае, несмотря на улучшение метрики, мы пока не можем судить, стало ли по жизни лучше от усложнения модели."
      ]
    },
    {
      "cell_type": "markdown",
      "metadata": {
        "id": "wEQ9eOoWGH7L"
      },
      "source": [
        "Поручинившись немного, возьмём на вооружение другую идею. Давайте использовать типы заведений!\n",
        "\n",
        "Но с типами есть некоторая проблема: в столбце ``rubrics_id`` не всегда один идентификатор, часто их несколько, и всего комбинаций довольно много. Чтобы не возиться с малочисленными типами, давайте сольём их в один безликий ``other``.\n",
        "\n",
        "Итак, добавьте в обучающие и тестовые данные столбец ``modified_rubrics``, в котором будет то же, что и в ``rubrics_id``, если соответствующая комбинация рубрик содержит хотя бы 100 заведений из обучающей (!) выборки, и строка ``other`` в противном случае.\n",
        "\n",
        "Здесь вам поможет контейнер ``Counter`` из библиотеки ``collections``."
      ]
    },
    {
      "cell_type": "code",
      "execution_count": 24,
      "metadata": {
        "id": "uTVW5KkwGH7L"
      },
      "outputs": [
        {
          "name": "stdout",
          "output_type": "stream",
          "text": [
            "616\n",
            "28\n"
          ]
        }
      ],
      "source": [
        "# your code\n",
        "from collections import Counter\n",
        "\n",
        "rubrics_counts = Counter(X_train['rubrics_id'])\n",
        "popular_rubrics = {rubric for rubric, count in rubrics_counts.items() if count >= 100}\n",
        "\n",
        "def _modify_rubric(rubric_id, popular_set):\n",
        "    if rubric_id in popular_set:\n",
        "        return rubric_id\n",
        "    return 'other'\n",
        "\n",
        "X_train['modified_rubrics'] = X_train['rubrics_id'].apply(\n",
        "    lambda x: _modify_rubric(x, popular_rubrics)\n",
        ")\n",
        "\n",
        "X_test['modified_rubrics'] = X_test['rubrics_id'].apply(\n",
        "    lambda x: _modify_rubric(x, popular_rubrics)\n",
        ")\n",
        "\n",
        "print(f\"{X_train['rubrics_id'].nunique()}\")\n",
        "print(f\"{X_train['modified_rubrics'].nunique()}\")\n"
      ]
    },
    {
      "cell_type": "markdown",
      "metadata": {
        "id": "nZXhpBjnGH7L"
      },
      "source": [
        "Теперь настало время написать могучий классификатор, который по заведению предсказывает медиану средних чеков среди тех в обучающей выборке, у которых с ним одинаковые `modified_rubrics` и город (вы спросите, почему медиану, а не самый частый -- спишем это на вдохновение; самый частый тоже можно брать - но медиана работает лучше).\n",
        "\n",
        "**8. Напишите классификатор и сдайте в Контест**."
      ]
    },
    {
      "cell_type": "code",
      "execution_count": 25,
      "metadata": {
        "id": "eTfcwh5dGH7M"
      },
      "outputs": [],
      "source": [
        "# your code\n",
        "import numpy as np\n",
        "import pandas as pd\n",
        "from sklearn.base import ClassifierMixin\n",
        "\n",
        "class RubricCityMedianClassifier(ClassifierMixin):\n",
        "    def __init__(self):\n",
        "        self.combo_medians_ = {}\n",
        "        self.global_median_ = None\n",
        "        \n",
        "    def fit(self, X, y):\n",
        "        X_df = pd.DataFrame(X).copy()\n",
        "        \n",
        "        required_cols = ['city', 'modified_rubrics']\n",
        "        if not all(col in X_df.columns for col in required_cols):\n",
        "            return ValueError('...')\n",
        "        \n",
        "        data_train = X_df.assign(target=pd.Series(y))\n",
        "        \n",
        "        self.global_median_ = int(data_train['target'].median())\n",
        "        self.combo_medians_ = data_train.groupby(['city', 'modified_rubrics'])['target'] \\\n",
        "                                        .median().round().astype(int).to_dict()\n",
        "                                        \n",
        "        return self\n",
        "    \n",
        "    def predict(self, X):\n",
        "        X_df = pd.DataFrame(X).copy()\n",
        "        required_cols = ['city', 'modified_rubrics']\n",
        "        if not all(col in X_df.columns for col in required_cols):\n",
        "            raise ValueError('...')\n",
        "\n",
        "        # создаем ключ\n",
        "        X_df['combo_key'] = X_df.apply(lambda row: (row['city'], row['modified_rubrics']), axis=1)\n",
        "\n",
        "        predictions = X_df['combo_key'].map(self.combo_medians_).fillna(self.global_median_)\n",
        "        \n",
        "        return predictions.astype(int).values\n",
        "        \n",
        "        \n",
        "        "
      ]
    },
    {
      "cell_type": "markdown",
      "metadata": {
        "id": "xbgjbwgkGH7M"
      },
      "source": [
        "Сравните обученный классификатор по метрикам RMSE и balanced_accuracy_score с нашими бейзлайнами. Получилось ли улучшить?"
      ]
    },
    {
      "cell_type": "markdown",
      "metadata": {
        "id": "UMjsnCnQGH7M"
      },
      "source": [
        "Обратите внимание что рост accuracy по сравнению с бейзлайном при этом на порядок меньше:"
      ]
    },
    {
      "cell_type": "code",
      "execution_count": 26,
      "metadata": {},
      "outputs": [
        {
          "name": "stdout",
          "output_type": "stream",
          "text": [
            "Balanced Accuracy (MostFrequentClassifier): 0.2000\n",
            "Balanced Accuracy (RubricCityMedian): 0.3055\n"
          ]
        }
      ],
      "source": [
        "rcm_clf = RubricCityMedianClassifier() \n",
        "\n",
        "rcm_clf.fit(X=X_train, y=y_train) \n",
        "\n",
        "y_pred_rcm_clf = rcm_clf.predict(X_test) \n",
        "\n",
        "bacc_rcm_clf = balanced_accuracy_score(y_test, y_pred_rcm_clf)\n",
        "\n",
        "\n",
        "print(f\"Balanced Accuracy (MostFrequentClassifier): {bacc_clf:.4f}\")\n",
        "print(f\"Balanced Accuracy (RubricCityMedian): {bacc_rcm_clf:.4f}\")"
      ]
    },
    {
      "cell_type": "markdown",
      "metadata": {
        "id": "K2cF0I-CGH7M"
      },
      "source": [
        "accuracy_score\n",
        "\n",
        "Predict most frequent:  0.6947666195190948\n",
        "\n",
        "Predict by rubric and city:  0.7095709570957096"
      ]
    },
    {
      "cell_type": "markdown",
      "metadata": {
        "id": "ylrAIjCcGH7N"
      },
      "source": [
        "Для диагностики напечатайте для каждого класса тестовой выборки, сколько в нём объектов и скольким из них наш классификатор приписал правильный класс. Что вы видите?\n",
        "\n",
        "&nbsp;\n",
        "\n",
        "<details>\n",
        "  <summary>Когда будете готовы, кликните сюда, чтобы посмотреть ответ</summary>\n",
        "    \n",
        "  Вы, вероятно, видите то, что мы стали однозначно лучше по сравнению с бейзлайном детектировать средний чек 1000 и 1500 (хотя всё равно не очень хорошо + ценой ухудшения качества на среднем чеке 500), а вот чеки 2000 и 2500 нам ну никак не даются.\n",
        "    \n",
        "</details>"
      ]
    },
    {
      "cell_type": "markdown",
      "metadata": {
        "id": "9ScOy7ZvGH7N"
      },
      "source": [
        "**Кстати**. А вы понимаете, почему приведённый выше пайплайн классификации был не очень удачным с точки зрения архитектуры? Почему его было бы правильнее воплотить по-другому?\n",
        "\n",
        "&nbsp;\n",
        "\n",
        "<details>\n",
        "  <summary>Когда будете готовы, кликните сюда, чтобы посмотреть ответ</summary>\n",
        "Собственно говоря, и не было никакого пайплайна. К счастью, у нас была одна обучающая выборка, мы на ней посчитали список рубрик для modified_rubrics и радовались жизни. Но если бы нам надо было переобучать всё на новых данных, пришлось бы помнить, что их надо везде пересчитать (ведь у нас могли появиться новые рубрики с хотя бы 100 представителями). А уж никакую кросс-валидацию (кто знает - тот поймёт) с нашим подходом к делу и вовсе бы не получилось сделать без боли.\n",
        "    \n",
        "Поэтому в следующей лабораторной вы научитесь делать честные пайплайны, в которых преобразование данных, генерация фичей и обучение классификатора будут объединены в один понятный процесс, происходящий на этапе fit.\n",
        "</details>"
      ]
    },
    {
      "cell_type": "markdown",
      "metadata": {
        "id": "4ujl3tbbGH7N"
      },
      "source": [
        "## Слишком простые и слишком сложные модели"
      ]
    },
    {
      "cell_type": "markdown",
      "metadata": {
        "id": "QF7McCHsGH7N"
      },
      "source": [
        "Бейзлайны у нас слишком просты и потому не очень полезны в жизни. Но если сложность модели растёт бесконтрольно, то тоже получается плохо.\n",
        "\n",
        "Давайте рассмотрим конкретный пример. Создадим классификатор, использующий одновременно `rubrics_id` и `features_id`.\n",
        "\n",
        "Сделайте следующее:\n",
        "\n",
        "- для каждого объекта обучающей выборки сконкатенируйте строку `rubrics_id` с разделителем (например, буквой 'q') и содержимым `features_id`. Полученный столбец озаглавьте `modified_features`. Это не самый клёвый способ заиспользовать все фичи, но сейчас пока сойдёт. Причём на сей раз не будем выкидывать мало представленные значения (вся информация важна, не так ли?).\n",
        "- при этом для тестовой выборке заменяйте на строку `other` все конкатенации, которые не встретились в обучающей выборке.\n",
        "\n",
        "То есть элементы в этом столбце будут иметь вид `other` или `30776 30774 q 3502045032 11741 3502045016 1046...`."
      ]
    },
    {
      "cell_type": "code",
      "execution_count": 27,
      "metadata": {},
      "outputs": [
        {
          "name": "stdout",
          "output_type": "stream",
          "text": [
            "X_train: 20915\n",
            "X_test: 307\n"
          ]
        }
      ],
      "source": [
        "import pandas as pd\n",
        "import numpy as np\n",
        "\n",
        "DELIMITER = ' q '\n",
        "\n",
        "X_train['modified_features'] = (\n",
        "    X_train['rubrics_id'].astype(str) + \n",
        "    DELIMITER + \n",
        "    X_train['features_id'].astype(str)\n",
        ")\n",
        "\n",
        "known_combos = set(X_train['modified_features'].unique())\n",
        "\n",
        "\n",
        "X_test['modified_features'] = (\n",
        "    X_test['rubrics_id'].astype(str) + \n",
        "    DELIMITER + \n",
        "    X_test['features_id'].astype(str)\n",
        ")\n",
        "\n",
        "def handle_novel_combos(combo, known_set):\n",
        "    \"\"\"Возвращает combo, если оно известно из трейна, иначе 'other'.\"\"\"\n",
        "    if combo in known_set:\n",
        "        return combo\n",
        "    else:\n",
        "        return 'other'\n",
        "\n",
        "X_test['modified_features'] = X_test['modified_features'].apply(\n",
        "    lambda x: handle_novel_combos(x, known_combos)\n",
        ")\n",
        "\n",
        "\n",
        "\n",
        "print(f\"X_train: {X_train['modified_features'].nunique()}\")\n",
        "print(f\"X_test: {X_test['modified_features'].nunique()}\")\n"
      ]
    },
    {
      "cell_type": "markdown",
      "metadata": {
        "id": "e8tNBPzVGH7O"
      },
      "source": [
        "Теперь обучите классификатор, который для заведения предсказывает медиану среднего чека по всем объектам тестовой выборки с таким же, как у него, значением `modified_features`, а если такого в обучающей выборке нет, то глобальную медиану среднего чека по всей обучающей выборке.\n",
        "\n",
        "**9. Загрузите в Контест предсказания этого классификатора на тестовой выборке**\n",
        "\n",
        "Мы ждём файла **.csv**, у которого в каждой строке будет только одно число - предсказание классификатора.\n",
        "\n",
        "Возможно, вам будет полезна библиотека ``tqdm``, позволяющая отслеживать в реальном времени, сколько времени уже крутится цикл и сколько итераций ещё осталось. Впрочем, если вы всё написали нормально, то должно работать не очень долго."
      ]
    },
    {
      "cell_type": "code",
      "execution_count": 28,
      "metadata": {},
      "outputs": [
        {
          "name": "stdout",
          "output_type": "stream",
          "text": [
            "65841 500\n",
            "48882 500\n",
            "33711 500\n",
            "33544 500\n",
            "35293 500\n"
          ]
        }
      ],
      "source": [
        "import numpy as np\n",
        "import pandas as pd\n",
        "from collections import Counter\n",
        "import os \n",
        "\n",
        "\n",
        "DELIMITER = ' q '\n",
        "\n",
        "X_train['modified_features'] = (\n",
        "    X_train['rubrics_id'].astype(str) + DELIMITER + X_train['features_id'].astype(str)\n",
        ")\n",
        "\n",
        "known_combos = set(X_train['modified_features'].unique())\n",
        "\n",
        "X_test['modified_features'] = (\n",
        "    X_test['rubrics_id'].astype(str) + DELIMITER + X_test['features_id'].astype(str)\n",
        ")\n",
        "\n",
        "def handle_novel_combos(combo, known_set):\n",
        "    return combo if combo in known_set else 'other'\n",
        "\n",
        "X_test['modified_features'] = X_test['modified_features'].apply(\n",
        "    lambda x: handle_novel_combos(x, known_combos)\n",
        ")\n",
        "\n",
        "\n",
        "data_train_for_combo = X_train.assign(target=pd.Series(y_train))\n",
        "\n",
        "global_median = int(data_train_for_combo['target'].median())\n",
        "\n",
        "combo_medians = data_train_for_combo.groupby('modified_features')['target'] \\\n",
        "                                    .median().round().astype(int).to_dict()\n",
        "\n",
        "\n",
        "test_features = X_test['modified_features']\n",
        "predictions = []\n",
        "\n",
        "predictions_series = test_features.map(combo_medians).fillna(global_median).astype(int)\n",
        "\n",
        "\n",
        "results_df = pd.DataFrame({\n",
        "    'index': X_test.index,\n",
        "    'prediction': predictions_series.values \n",
        "})\n",
        "\n",
        "\n",
        "results_df.to_csv('predictions_final.csv', index=False, header=False)\n",
        "\n",
        "print(results_df.head().to_string(index=False, header=False))"
      ]
    },
    {
      "cell_type": "markdown",
      "metadata": {
        "id": "_XrswPW4GH7O"
      },
      "source": [
        "Модель, очевидно, очень сложная. Число параметров (различных категорий) в ней сопоставимо с числом объектов в обучающей выборке. А получилось ли хорошо?\n",
        "\n",
        "Давайте посчитаем RMSE и balanced_accuracy_score на обучающей и на тестовой выборках.\n",
        "\n",
        "**10. Введите их в Контест**"
      ]
    },
    {
      "cell_type": "code",
      "execution_count": 29,
      "metadata": {},
      "outputs": [
        {
          "name": "stdout",
          "output_type": "stream",
          "text": [
            "1. Balanced Accuracy (TRAIN): 0.3054\n",
            "2. Balanced Accuracy (TEST): 0.3055\n",
            "--------------------------------------------------\n",
            "3. RMSE (TRAIN): 445.18\n",
            "4. RMSE (TEST): 445.11\n"
          ]
        }
      ],
      "source": [
        "rcm_clf.fit(X=X_train, y=y_train) \n",
        "\n",
        "y_pred_train_clf = rcm_clf.predict(X_train) \n",
        "y_pred_test_clf = rcm_clf.predict(X_test) \n",
        "\n",
        "bacc_train = balanced_accuracy_score(y_train, y_pred_train_clf)\n",
        "bacc_test = balanced_accuracy_score(y_test, y_pred_test_clf)\n",
        "\n",
        "rmse_train = np.sqrt(mean_squared_error(y_train, y_pred_train_reg))\n",
        "rmse_test = np.sqrt(mean_squared_error(y_test, y_pred_test_reg))\n",
        "\n",
        "print(f\"1. Balanced Accuracy (TRAIN): {bacc_train:.4f}\")\n",
        "print(f\"2. Balanced Accuracy (TEST): {bacc_test:.4f}\")\n",
        "print(\"--------------------------------------------------\")\n",
        "print(f\"3. RMSE (TRAIN): {rmse_train:,.2f}\")\n",
        "print(f\"4. RMSE (TEST): {rmse_test:,.2f}\")"
      ]
    },
    {
      "cell_type": "markdown",
      "metadata": {
        "id": "fGDTpxFgGH7O"
      },
      "source": [
        "Налицо переобучение: на трейне метрики отличные, на тесте - вообще никакие\n",
        "\n",
        "В общем, не гонитесь за чрезмерной сложностью модели.."
      ]
    },
    {
      "cell_type": "markdown",
      "metadata": {
        "id": "YTU2yubYGH7O"
      },
      "source": [
        "## ML без данных что компутер без электричества"
      ]
    },
    {
      "cell_type": "markdown",
      "metadata": {
        "id": "DBVOCVf2GH7P"
      },
      "source": [
        "Возможно, вы смотрите на полученные выше результаты и думаете: вот если бы мы не какие-то убогие медианы предсказывали, а гоняли бы нейросети, то тут-то бы всё и получилось!\n",
        "\n",
        "Но, увы, совсем даже не всегда от счастья нас отделяет выбор хорошей модели (и стратегии обучения). Если данные не очень, то даже самая крутая модель не сработает. В этой ситуации нужно либо добывать новые фичи каким-то образом, либо собирать новые данные (увеличивать датасет), либо просто бросать задачу.\n",
        "\n",
        "Давайте посмотрим, что выжмет из наших данных одна из самых мощных моделей для табличных данных - градиентный бустинг на решающих деревьях в исполнении [CatBoost](https://catboost.ai/)."
      ]
    },
    {
      "cell_type": "markdown",
      "metadata": {
        "id": "a0L4UmzSGH7P"
      },
      "source": [
        "Но прежде, чем сделать fit, нам надо облагородить данные. Несмотря на то, что CatBoost отлично работает с категориальными фичами, мешок признаков из `rubrics_id` или `features_id` может ему оказаться не по зубам. Поэтому мы соберём датасет в пристойную матрицу, создав для каждого типа рубрик и фичей отдельный столбец и записав там единицы для тех объектов, у которых эта рубрика или фича имеет место.\n",
        "\n",
        "В матрице почти все элементы будут нулями. Такие матрицы считаются **разреженными** и их можно хранить гораздо эффективней, чем просто таблицей. Этим и займёмся)"
      ]
    },
    {
      "cell_type": "markdown",
      "metadata": {
        "id": "IJKuMtNbGH7P"
      },
      "source": [
        "Есть несколько форматов хранения разреженных матриц (многие из них реализованы в [пакете sparse библиотеки scipy](https://docs.scipy.org/doc/scipy/reference/sparse.html)), и каждый пригоден для чего-то своего.\n",
        "\n",
        "Создавать разреженную матрицу лучше в [формате COO](https://docs.scipy.org/doc/scipy/reference/generated/scipy.sparse.coo_array.html#scipy.sparse.coo_array). Он предполагает, что разреженная матрица задаётся в виде трёх списков: `row`, `col`, `data`, причём каждая тройка `(row[i], col[i], data[i])` кодирует элемент со значением `data[i]`, стоящий на позиции `(row[i], col[i])`. Считается, что на позициях `(row, col)`, которые ни разу не встретились, стоят нули.\n",
        "\n",
        "Нетрудно видеть, что заполнять такую матрицу - одно удовольствие, и особенно этому помогает тот факт, что **пара `(row, col)` может встретиться несколько раз** (тогда в итоговой матрице на соответствующей позиции стоит сумма соответствующих `data[i]`). Но, с другой стороны, почти ничего другого с такой матрицей не сделаешь: произвольного доступа к элементам она не предоставляет, умножить её тоже особо ничего не умножишь. Поэтому для дальнейшего использования созданную таким образом матрицу преобразуют в один из более удобных форматов, например, [CSR (compressed sparse row)](https://scipy-lectures.org/advanced/scipy_sparse/csr_matrix.html). Он, к примеру, хорошо подходит для умножения на вектор (потому что матрица хранится по строкам). Не будем разбирать его подробно, но можете почитать по ссылке, если интересно."
      ]
    },
    {
      "cell_type": "markdown",
      "metadata": {
        "id": "2hd_Sob3GH7P"
      },
      "source": [
        "Вам нужно будет превратить обучающие и тестовые данные в разреженные матрицы `sparse_data_train` и `sparse_data_test` соответственно, таким образом, что:\n",
        "\n",
        "- столбец `city` превратится в столбец из единиц и нулей (например, 1 - Москва, 0 - Питер);\n",
        "- столбец `rating` перекочует в разреженные матрицы без изменений;\n",
        "- каждый типы рубрик и каждая фича превратятся в отдельный 0-1-принак;\n",
        "\n",
        "В тестовой выборке будут фичи, которых в обучающей выборке не было. С ними можно по-разному работать, но давайте создадим дополнительную фантомную фичу `feature_other`, в которой будет то, сколько неизвестных по обучающей выборке фичей есть у данного объекта."
      ]
    },
    {
      "cell_type": "code",
      "execution_count": null,
      "metadata": {
        "id": "7-UAatGJGH7P"
      },
      "outputs": [
        {
          "name": "stdout",
          "output_type": "stream",
          "text": [
            "sparse_data_train: (21531, 606)\n",
            "sparse_data_test: (10605, 606)\n"
          ]
        }
      ],
      "source": [
        "import numpy as np\n",
        "import pandas as pd\n",
        "from scipy.sparse import csr_matrix, hstack, issparse\n",
        "\n",
        "# подготовка данных\n",
        "for df in [X_train, X_test]:\n",
        "    # приводим id к строке для корректного разделения\n",
        "    df['rubrics_id'] = df['rubrics_id'].astype(str)\n",
        "    df['features_id'] = df['features_id'].astype(str)\n",
        "\n",
        "# определяем все уникальные id (словари)\n",
        "rubrics_ids_train_flat = X_train['rubrics_id'].str.split(' ').explode().unique()\n",
        "all_rubrics = set(rubrics_ids_train_flat) - {None, '', 'nan'}\n",
        "\n",
        "features_ids_train_flat = X_train['features_id'].str.split(' ').explode().unique()\n",
        "all_features = set(features_ids_train_flat) - {None, '', 'nan'}\n",
        "\n",
        "\n",
        "def multi_hot_encode(df, col_name, vocabulary):\n",
        "    # строим словарь id -> индекс колонки\n",
        "    vocab_map = {id: i for i, id in enumerate(sorted(list(vocabulary)))}\n",
        "    \n",
        "    data = []\n",
        "    row_ind = []\n",
        "    col_ind = []\n",
        "    \n",
        "    # построчная итерация и сборка данных для разреженной матрицы\n",
        "    for row_idx, id_string in enumerate(df[col_name]):\n",
        "        # выбираем только id, которые есть в трейне\n",
        "        current_ids = set(id_string.split(' ')) & vocabulary\n",
        "        \n",
        "        for id in current_ids:\n",
        "            if id in vocab_map:\n",
        "                data.append(1)\n",
        "                row_ind.append(row_idx)\n",
        "                col_ind.append(vocab_map[id])\n",
        "    \n",
        "    # создаём разреженную матрицу\n",
        "    return csr_matrix((data, (row_ind, col_ind)), shape=(len(df), len(vocabulary)))\n",
        "\n",
        "def create_feature_other(df, features_vocab):\n",
        "    counts = []\n",
        "    # считаем, сколько фич нет в обучающей выборке\n",
        "    for id_string in df['features_id']:\n",
        "        if id_string == 'nan' or not id_string:\n",
        "            counts.append(0)\n",
        "            continue\n",
        "\n",
        "        current_ids = set(id_string.split(' ')) - {''} \n",
        "        \n",
        "        # неизвестные фичи\n",
        "        novel_ids = current_ids - features_vocab\n",
        "        \n",
        "        counts.append(len(novel_ids))\n",
        "\n",
        "    # возвращаем как один столбец\n",
        "    return np.array(counts).reshape(-1, 1)\n",
        "\n",
        "\n",
        "# кодируем рубрики и фичи\n",
        "sparse_rubrics_train = multi_hot_encode(X_train, 'rubrics_id', all_rubrics)\n",
        "sparse_rubrics_test = multi_hot_encode(X_test, 'rubrics_id', all_rubrics)\n",
        "\n",
        "sparse_features_train = multi_hot_encode(X_train, 'features_id', all_features)\n",
        "sparse_features_test = multi_hot_encode(X_test, 'features_id', all_features)\n",
        "\n",
        "\n",
        "# ohe города\n",
        "city_ohe_train = pd.get_dummies(X_train['city'], prefix='city', dtype=int)\n",
        "city_ohe_test = pd.get_dummies(X_test['city'], prefix='city', dtype=int)\n",
        "\n",
        "# выравнивание столбцов (обязательно)\n",
        "missing_cols = set(city_ohe_train.columns) - set(city_ohe_test.columns)\n",
        "for c in missing_cols:\n",
        "    city_ohe_test[c] = 0\n",
        "\n",
        "city_ohe_test = city_ohe_test[city_ohe_train.columns]\n",
        "\n",
        "# импутация рейтинга медианой трейна\n",
        "rating_median = X_train['rating'].median() \n",
        "\n",
        "rating_train = X_train['rating'].fillna(rating_median).values.reshape(-1, 1)\n",
        "rating_test = X_test['rating'].fillna(rating_median).values.reshape(-1, 1)\n",
        "\n",
        "# фантомная фича\n",
        "feature_other_train = np.zeros(len(X_train)).reshape(-1, 1)\n",
        "feature_other_test = create_feature_other(X_test, all_features)\n",
        "\n",
        "# преобразование плотных признаков в разреженные для hstack\n",
        "rating_train_sparse = csr_matrix(rating_train)\n",
        "rating_test_sparse = csr_matrix(rating_test)\n",
        "\n",
        "city_train_sparse = csr_matrix(city_ohe_train.values)\n",
        "city_test_sparse = csr_matrix(city_ohe_test.values)\n",
        "\n",
        "feature_other_train_sparse = csr_matrix(feature_other_train)\n",
        "feature_other_test_sparse = csr_matrix(feature_other_test)\n",
        "\n",
        "# сборка всех признаков\n",
        "sparse_data_train = hstack([\n",
        "    city_train_sparse, \n",
        "    rating_train_sparse, \n",
        "    sparse_rubrics_train, \n",
        "    sparse_features_train, \n",
        "    feature_other_train_sparse\n",
        "]).tocsr()\n",
        "\n",
        "sparse_data_test = hstack([\n",
        "    city_test_sparse, \n",
        "    rating_test_sparse, \n",
        "    sparse_rubrics_test, \n",
        "    sparse_features_test, \n",
        "    feature_other_test_sparse\n",
        "]).tocsr()\n",
        "\n",
        "print(f\"sparse_data_train: {sparse_data_train.shape}\")\n",
        "print(f\"sparse_data_test: {sparse_data_test.shape}\")"
      ]
    },
    {
      "cell_type": "markdown",
      "metadata": {
        "id": "lFfj-1E4GH7Q"
      },
      "source": [
        "Данные готовы, и теперь можно запустить катбуст"
      ]
    },
    {
      "cell_type": "code",
      "execution_count": 31,
      "metadata": {
        "id": "m2lP5NouGH7Q"
      },
      "outputs": [],
      "source": [
        "from catboost import CatBoostClassifier"
      ]
    },
    {
      "cell_type": "code",
      "execution_count": 35,
      "metadata": {
        "id": "jpW6uR0oGH7Q"
      },
      "outputs": [
        {
          "name": "stdout",
          "output_type": "stream",
          "text": [
            "Learning rate set to 0.092536\n",
            "0:\tlearn: 1.4353425\ttotal: 80ms\tremaining: 1m 19s\n",
            "1:\tlearn: 1.3152839\ttotal: 103ms\tremaining: 51.6s\n",
            "2:\tlearn: 1.2252693\ttotal: 125ms\tremaining: 41.5s\n",
            "3:\tlearn: 1.1522474\ttotal: 144ms\tremaining: 35.8s\n",
            "4:\tlearn: 1.0959396\ttotal: 163ms\tremaining: 32.4s\n",
            "5:\tlearn: 1.0494918\ttotal: 181ms\tremaining: 30s\n",
            "6:\tlearn: 1.0104702\ttotal: 200ms\tremaining: 28.3s\n",
            "7:\tlearn: 0.9755375\ttotal: 225ms\tremaining: 27.9s\n",
            "8:\tlearn: 0.9451564\ttotal: 245ms\tremaining: 26.9s\n",
            "9:\tlearn: 0.9188520\ttotal: 264ms\tremaining: 26.1s\n",
            "10:\tlearn: 0.8945487\ttotal: 283ms\tremaining: 25.4s\n",
            "11:\tlearn: 0.8763111\ttotal: 300ms\tremaining: 24.7s\n",
            "12:\tlearn: 0.8585284\ttotal: 318ms\tremaining: 24.2s\n",
            "13:\tlearn: 0.8419809\ttotal: 339ms\tremaining: 23.9s\n",
            "14:\tlearn: 0.8279988\ttotal: 357ms\tremaining: 23.4s\n",
            "15:\tlearn: 0.8123576\ttotal: 376ms\tremaining: 23.1s\n",
            "16:\tlearn: 0.7999135\ttotal: 393ms\tremaining: 22.7s\n",
            "17:\tlearn: 0.7876057\ttotal: 412ms\tremaining: 22.5s\n",
            "18:\tlearn: 0.7768515\ttotal: 433ms\tremaining: 22.4s\n",
            "19:\tlearn: 0.7664805\ttotal: 452ms\tremaining: 22.2s\n",
            "20:\tlearn: 0.7592809\ttotal: 469ms\tremaining: 21.9s\n",
            "21:\tlearn: 0.7518668\ttotal: 486ms\tremaining: 21.6s\n",
            "22:\tlearn: 0.7437765\ttotal: 503ms\tremaining: 21.4s\n",
            "23:\tlearn: 0.7382779\ttotal: 522ms\tremaining: 21.2s\n",
            "24:\tlearn: 0.7335826\ttotal: 539ms\tremaining: 21s\n",
            "25:\tlearn: 0.7274740\ttotal: 558ms\tremaining: 20.9s\n",
            "26:\tlearn: 0.7222150\ttotal: 577ms\tremaining: 20.8s\n",
            "27:\tlearn: 0.7183292\ttotal: 595ms\tremaining: 20.7s\n",
            "28:\tlearn: 0.7145057\ttotal: 611ms\tremaining: 20.5s\n",
            "29:\tlearn: 0.7116406\ttotal: 631ms\tremaining: 20.4s\n",
            "30:\tlearn: 0.7087749\ttotal: 650ms\tremaining: 20.3s\n",
            "31:\tlearn: 0.7063647\ttotal: 669ms\tremaining: 20.2s\n",
            "32:\tlearn: 0.7033239\ttotal: 687ms\tremaining: 20.1s\n",
            "33:\tlearn: 0.6996617\ttotal: 705ms\tremaining: 20s\n",
            "34:\tlearn: 0.6958301\ttotal: 725ms\tremaining: 20s\n",
            "35:\tlearn: 0.6926062\ttotal: 744ms\tremaining: 19.9s\n",
            "36:\tlearn: 0.6902650\ttotal: 760ms\tremaining: 19.8s\n",
            "37:\tlearn: 0.6883666\ttotal: 776ms\tremaining: 19.6s\n",
            "38:\tlearn: 0.6844899\ttotal: 796ms\tremaining: 19.6s\n",
            "39:\tlearn: 0.6824554\ttotal: 814ms\tremaining: 19.5s\n",
            "40:\tlearn: 0.6813133\ttotal: 831ms\tremaining: 19.4s\n",
            "41:\tlearn: 0.6801960\ttotal: 850ms\tremaining: 19.4s\n",
            "42:\tlearn: 0.6787360\ttotal: 867ms\tremaining: 19.3s\n",
            "43:\tlearn: 0.6781347\ttotal: 882ms\tremaining: 19.2s\n",
            "44:\tlearn: 0.6753559\ttotal: 901ms\tremaining: 19.1s\n",
            "45:\tlearn: 0.6739491\ttotal: 920ms\tremaining: 19.1s\n",
            "46:\tlearn: 0.6730881\ttotal: 936ms\tremaining: 19s\n",
            "47:\tlearn: 0.6723161\ttotal: 954ms\tremaining: 18.9s\n",
            "48:\tlearn: 0.6715904\ttotal: 971ms\tremaining: 18.8s\n",
            "49:\tlearn: 0.6699404\ttotal: 987ms\tremaining: 18.8s\n",
            "50:\tlearn: 0.6686530\ttotal: 1s\tremaining: 18.7s\n",
            "51:\tlearn: 0.6670537\ttotal: 1.02s\tremaining: 18.6s\n",
            "52:\tlearn: 0.6655760\ttotal: 1.04s\tremaining: 18.6s\n",
            "53:\tlearn: 0.6646014\ttotal: 1.05s\tremaining: 18.5s\n",
            "54:\tlearn: 0.6639445\ttotal: 1.07s\tremaining: 18.5s\n",
            "55:\tlearn: 0.6629579\ttotal: 1.09s\tremaining: 18.4s\n",
            "56:\tlearn: 0.6620473\ttotal: 1.11s\tremaining: 18.4s\n",
            "57:\tlearn: 0.6606241\ttotal: 1.13s\tremaining: 18.3s\n",
            "58:\tlearn: 0.6595515\ttotal: 1.15s\tremaining: 18.3s\n",
            "59:\tlearn: 0.6583841\ttotal: 1.17s\tremaining: 18.3s\n",
            "60:\tlearn: 0.6575730\ttotal: 1.19s\tremaining: 18.3s\n",
            "61:\tlearn: 0.6566447\ttotal: 1.2s\tremaining: 18.2s\n",
            "62:\tlearn: 0.6559100\ttotal: 1.22s\tremaining: 18.2s\n",
            "63:\tlearn: 0.6555532\ttotal: 1.24s\tremaining: 18.1s\n",
            "64:\tlearn: 0.6551927\ttotal: 1.25s\tremaining: 18s\n",
            "65:\tlearn: 0.6549155\ttotal: 1.27s\tremaining: 18s\n",
            "66:\tlearn: 0.6548291\ttotal: 1.29s\tremaining: 18s\n",
            "67:\tlearn: 0.6547643\ttotal: 1.3s\tremaining: 17.9s\n",
            "68:\tlearn: 0.6541261\ttotal: 1.33s\tremaining: 17.9s\n",
            "69:\tlearn: 0.6535944\ttotal: 1.35s\tremaining: 17.9s\n",
            "70:\tlearn: 0.6532854\ttotal: 1.36s\tremaining: 17.9s\n",
            "71:\tlearn: 0.6524123\ttotal: 1.38s\tremaining: 17.8s\n",
            "72:\tlearn: 0.6523397\ttotal: 1.4s\tremaining: 17.8s\n",
            "73:\tlearn: 0.6520455\ttotal: 1.43s\tremaining: 17.8s\n",
            "74:\tlearn: 0.6519427\ttotal: 1.45s\tremaining: 17.8s\n",
            "75:\tlearn: 0.6515013\ttotal: 1.47s\tremaining: 17.9s\n",
            "76:\tlearn: 0.6507576\ttotal: 1.49s\tremaining: 17.9s\n",
            "77:\tlearn: 0.6503451\ttotal: 1.52s\tremaining: 17.9s\n",
            "78:\tlearn: 0.6501895\ttotal: 1.54s\tremaining: 18s\n",
            "79:\tlearn: 0.6486595\ttotal: 1.57s\tremaining: 18.1s\n",
            "80:\tlearn: 0.6485155\ttotal: 1.59s\tremaining: 18.1s\n",
            "81:\tlearn: 0.6472217\ttotal: 1.62s\tremaining: 18.1s\n",
            "82:\tlearn: 0.6468269\ttotal: 1.64s\tremaining: 18.1s\n",
            "83:\tlearn: 0.6462923\ttotal: 1.66s\tremaining: 18.1s\n",
            "84:\tlearn: 0.6454582\ttotal: 1.68s\tremaining: 18s\n",
            "85:\tlearn: 0.6452549\ttotal: 1.69s\tremaining: 18s\n",
            "86:\tlearn: 0.6441196\ttotal: 1.71s\tremaining: 18s\n",
            "87:\tlearn: 0.6431862\ttotal: 1.73s\tremaining: 17.9s\n",
            "88:\tlearn: 0.6426183\ttotal: 1.75s\tremaining: 17.9s\n",
            "89:\tlearn: 0.6422652\ttotal: 1.77s\tremaining: 17.9s\n",
            "90:\tlearn: 0.6418111\ttotal: 1.78s\tremaining: 17.8s\n",
            "91:\tlearn: 0.6416821\ttotal: 1.8s\tremaining: 17.8s\n",
            "92:\tlearn: 0.6415851\ttotal: 1.81s\tremaining: 17.7s\n",
            "93:\tlearn: 0.6413315\ttotal: 1.83s\tremaining: 17.7s\n",
            "94:\tlearn: 0.6409956\ttotal: 1.85s\tremaining: 17.6s\n",
            "95:\tlearn: 0.6404670\ttotal: 1.86s\tremaining: 17.6s\n",
            "96:\tlearn: 0.6404212\ttotal: 1.88s\tremaining: 17.5s\n",
            "97:\tlearn: 0.6396727\ttotal: 1.9s\tremaining: 17.5s\n",
            "98:\tlearn: 0.6393686\ttotal: 1.92s\tremaining: 17.4s\n",
            "99:\tlearn: 0.6387935\ttotal: 1.93s\tremaining: 17.4s\n",
            "100:\tlearn: 0.6380677\ttotal: 1.95s\tremaining: 17.4s\n",
            "101:\tlearn: 0.6376899\ttotal: 1.97s\tremaining: 17.4s\n",
            "102:\tlearn: 0.6369376\ttotal: 1.99s\tremaining: 17.3s\n",
            "103:\tlearn: 0.6367264\ttotal: 2.01s\tremaining: 17.3s\n",
            "104:\tlearn: 0.6363541\ttotal: 2.03s\tremaining: 17.3s\n",
            "105:\tlearn: 0.6359317\ttotal: 2.05s\tremaining: 17.3s\n",
            "106:\tlearn: 0.6355509\ttotal: 2.06s\tremaining: 17.2s\n",
            "107:\tlearn: 0.6353236\ttotal: 2.08s\tremaining: 17.2s\n",
            "108:\tlearn: 0.6350049\ttotal: 2.1s\tremaining: 17.2s\n",
            "109:\tlearn: 0.6343099\ttotal: 2.13s\tremaining: 17.2s\n",
            "110:\tlearn: 0.6340059\ttotal: 2.14s\tremaining: 17.2s\n",
            "111:\tlearn: 0.6332551\ttotal: 2.16s\tremaining: 17.1s\n",
            "112:\tlearn: 0.6326122\ttotal: 2.18s\tremaining: 17.1s\n",
            "113:\tlearn: 0.6325098\ttotal: 2.2s\tremaining: 17.1s\n",
            "114:\tlearn: 0.6324651\ttotal: 2.21s\tremaining: 17s\n",
            "115:\tlearn: 0.6321694\ttotal: 2.23s\tremaining: 17s\n",
            "116:\tlearn: 0.6316444\ttotal: 2.25s\tremaining: 17s\n",
            "117:\tlearn: 0.6315705\ttotal: 2.26s\tremaining: 16.9s\n",
            "118:\tlearn: 0.6314514\ttotal: 2.28s\tremaining: 16.9s\n",
            "119:\tlearn: 0.6307795\ttotal: 2.3s\tremaining: 16.8s\n",
            "120:\tlearn: 0.6303422\ttotal: 2.32s\tremaining: 16.8s\n",
            "121:\tlearn: 0.6296007\ttotal: 2.34s\tremaining: 16.8s\n",
            "122:\tlearn: 0.6293464\ttotal: 2.35s\tremaining: 16.8s\n",
            "123:\tlearn: 0.6281029\ttotal: 2.38s\tremaining: 16.8s\n",
            "124:\tlearn: 0.6275521\ttotal: 2.39s\tremaining: 16.8s\n",
            "125:\tlearn: 0.6266275\ttotal: 2.41s\tremaining: 16.7s\n",
            "126:\tlearn: 0.6264052\ttotal: 2.43s\tremaining: 16.7s\n",
            "127:\tlearn: 0.6263438\ttotal: 2.45s\tremaining: 16.7s\n",
            "128:\tlearn: 0.6258835\ttotal: 2.47s\tremaining: 16.7s\n",
            "129:\tlearn: 0.6254810\ttotal: 2.49s\tremaining: 16.7s\n",
            "130:\tlearn: 0.6246590\ttotal: 2.51s\tremaining: 16.6s\n",
            "131:\tlearn: 0.6237423\ttotal: 2.54s\tremaining: 16.7s\n",
            "132:\tlearn: 0.6233365\ttotal: 2.55s\tremaining: 16.7s\n",
            "133:\tlearn: 0.6227788\ttotal: 2.57s\tremaining: 16.6s\n",
            "134:\tlearn: 0.6224591\ttotal: 2.59s\tremaining: 16.6s\n",
            "135:\tlearn: 0.6223116\ttotal: 2.6s\tremaining: 16.6s\n",
            "136:\tlearn: 0.6220235\ttotal: 2.62s\tremaining: 16.5s\n",
            "137:\tlearn: 0.6214435\ttotal: 2.64s\tremaining: 16.5s\n",
            "138:\tlearn: 0.6210162\ttotal: 2.66s\tremaining: 16.5s\n",
            "139:\tlearn: 0.6208411\ttotal: 2.67s\tremaining: 16.4s\n",
            "140:\tlearn: 0.6208143\ttotal: 2.69s\tremaining: 16.4s\n",
            "141:\tlearn: 0.6200932\ttotal: 2.71s\tremaining: 16.4s\n",
            "142:\tlearn: 0.6198649\ttotal: 2.73s\tremaining: 16.3s\n",
            "143:\tlearn: 0.6193812\ttotal: 2.74s\tremaining: 16.3s\n",
            "144:\tlearn: 0.6189693\ttotal: 2.76s\tremaining: 16.3s\n",
            "145:\tlearn: 0.6187307\ttotal: 2.78s\tremaining: 16.2s\n",
            "146:\tlearn: 0.6183736\ttotal: 2.79s\tremaining: 16.2s\n",
            "147:\tlearn: 0.6181937\ttotal: 2.81s\tremaining: 16.2s\n",
            "148:\tlearn: 0.6172433\ttotal: 2.83s\tremaining: 16.2s\n",
            "149:\tlearn: 0.6167908\ttotal: 2.85s\tremaining: 16.2s\n",
            "150:\tlearn: 0.6161875\ttotal: 2.87s\tremaining: 16.1s\n",
            "151:\tlearn: 0.6159802\ttotal: 2.89s\tremaining: 16.1s\n",
            "152:\tlearn: 0.6156415\ttotal: 2.9s\tremaining: 16.1s\n",
            "153:\tlearn: 0.6152777\ttotal: 2.92s\tremaining: 16.1s\n",
            "154:\tlearn: 0.6150279\ttotal: 2.94s\tremaining: 16s\n",
            "155:\tlearn: 0.6145627\ttotal: 2.96s\tremaining: 16s\n",
            "156:\tlearn: 0.6145057\ttotal: 2.97s\tremaining: 16s\n",
            "157:\tlearn: 0.6143206\ttotal: 2.99s\tremaining: 15.9s\n",
            "158:\tlearn: 0.6142207\ttotal: 3s\tremaining: 15.9s\n",
            "159:\tlearn: 0.6136927\ttotal: 3.02s\tremaining: 15.9s\n",
            "160:\tlearn: 0.6134716\ttotal: 3.04s\tremaining: 15.8s\n",
            "161:\tlearn: 0.6134226\ttotal: 3.05s\tremaining: 15.8s\n",
            "162:\tlearn: 0.6133621\ttotal: 3.06s\tremaining: 15.7s\n",
            "163:\tlearn: 0.6132730\ttotal: 3.08s\tremaining: 15.7s\n",
            "164:\tlearn: 0.6132466\ttotal: 3.1s\tremaining: 15.7s\n",
            "165:\tlearn: 0.6128067\ttotal: 3.11s\tremaining: 15.6s\n",
            "166:\tlearn: 0.6124241\ttotal: 3.13s\tremaining: 15.6s\n",
            "167:\tlearn: 0.6123112\ttotal: 3.15s\tremaining: 15.6s\n",
            "168:\tlearn: 0.6118949\ttotal: 3.17s\tremaining: 15.6s\n",
            "169:\tlearn: 0.6117906\ttotal: 3.18s\tremaining: 15.5s\n",
            "170:\tlearn: 0.6117188\ttotal: 3.2s\tremaining: 15.5s\n",
            "171:\tlearn: 0.6111965\ttotal: 3.22s\tremaining: 15.5s\n",
            "172:\tlearn: 0.6111129\ttotal: 3.23s\tremaining: 15.5s\n",
            "173:\tlearn: 0.6107667\ttotal: 3.25s\tremaining: 15.4s\n",
            "174:\tlearn: 0.6105236\ttotal: 3.27s\tremaining: 15.4s\n",
            "175:\tlearn: 0.6103600\ttotal: 3.28s\tremaining: 15.4s\n",
            "176:\tlearn: 0.6101798\ttotal: 3.3s\tremaining: 15.3s\n",
            "177:\tlearn: 0.6097437\ttotal: 3.32s\tremaining: 15.3s\n",
            "178:\tlearn: 0.6096434\ttotal: 3.34s\tremaining: 15.3s\n",
            "179:\tlearn: 0.6093828\ttotal: 3.35s\tremaining: 15.3s\n",
            "180:\tlearn: 0.6092040\ttotal: 3.37s\tremaining: 15.3s\n",
            "181:\tlearn: 0.6089547\ttotal: 3.39s\tremaining: 15.2s\n",
            "182:\tlearn: 0.6084092\ttotal: 3.41s\tremaining: 15.2s\n",
            "183:\tlearn: 0.6083663\ttotal: 3.42s\tremaining: 15.2s\n",
            "184:\tlearn: 0.6080384\ttotal: 3.44s\tremaining: 15.2s\n",
            "185:\tlearn: 0.6077280\ttotal: 3.46s\tremaining: 15.1s\n",
            "186:\tlearn: 0.6073202\ttotal: 3.47s\tremaining: 15.1s\n",
            "187:\tlearn: 0.6072915\ttotal: 3.49s\tremaining: 15.1s\n",
            "188:\tlearn: 0.6070882\ttotal: 3.5s\tremaining: 15s\n",
            "189:\tlearn: 0.6069759\ttotal: 3.52s\tremaining: 15s\n",
            "190:\tlearn: 0.6066968\ttotal: 3.54s\tremaining: 15s\n",
            "191:\tlearn: 0.6064919\ttotal: 3.56s\tremaining: 15s\n",
            "192:\tlearn: 0.6061436\ttotal: 3.58s\tremaining: 15s\n",
            "193:\tlearn: 0.6057817\ttotal: 3.6s\tremaining: 14.9s\n",
            "194:\tlearn: 0.6057324\ttotal: 3.61s\tremaining: 14.9s\n",
            "195:\tlearn: 0.6055699\ttotal: 3.63s\tremaining: 14.9s\n",
            "196:\tlearn: 0.6054467\ttotal: 3.65s\tremaining: 14.9s\n",
            "197:\tlearn: 0.6051258\ttotal: 3.66s\tremaining: 14.8s\n",
            "198:\tlearn: 0.6050627\ttotal: 3.68s\tremaining: 14.8s\n",
            "199:\tlearn: 0.6049156\ttotal: 3.69s\tremaining: 14.8s\n",
            "200:\tlearn: 0.6045714\ttotal: 3.71s\tremaining: 14.7s\n",
            "201:\tlearn: 0.6043937\ttotal: 3.73s\tremaining: 14.7s\n",
            "202:\tlearn: 0.6041531\ttotal: 3.74s\tremaining: 14.7s\n",
            "203:\tlearn: 0.6040635\ttotal: 3.76s\tremaining: 14.7s\n",
            "204:\tlearn: 0.6038361\ttotal: 3.78s\tremaining: 14.7s\n",
            "205:\tlearn: 0.6034773\ttotal: 3.8s\tremaining: 14.6s\n",
            "206:\tlearn: 0.6033059\ttotal: 3.81s\tremaining: 14.6s\n",
            "207:\tlearn: 0.6030648\ttotal: 3.83s\tremaining: 14.6s\n",
            "208:\tlearn: 0.6027501\ttotal: 3.85s\tremaining: 14.6s\n",
            "209:\tlearn: 0.6024124\ttotal: 3.87s\tremaining: 14.5s\n",
            "210:\tlearn: 0.6023258\ttotal: 3.88s\tremaining: 14.5s\n",
            "211:\tlearn: 0.6020725\ttotal: 3.9s\tremaining: 14.5s\n",
            "212:\tlearn: 0.6016193\ttotal: 3.92s\tremaining: 14.5s\n",
            "213:\tlearn: 0.6015401\ttotal: 3.94s\tremaining: 14.5s\n",
            "214:\tlearn: 0.6014254\ttotal: 3.95s\tremaining: 14.4s\n",
            "215:\tlearn: 0.6013126\ttotal: 3.97s\tremaining: 14.4s\n",
            "216:\tlearn: 0.6012977\ttotal: 3.98s\tremaining: 14.4s\n",
            "217:\tlearn: 0.6011211\ttotal: 4s\tremaining: 14.4s\n",
            "218:\tlearn: 0.6011043\ttotal: 4.02s\tremaining: 14.3s\n",
            "219:\tlearn: 0.6010455\ttotal: 4.03s\tremaining: 14.3s\n",
            "220:\tlearn: 0.6009832\ttotal: 4.05s\tremaining: 14.3s\n",
            "221:\tlearn: 0.6006300\ttotal: 4.07s\tremaining: 14.3s\n",
            "222:\tlearn: 0.6004722\ttotal: 4.08s\tremaining: 14.2s\n",
            "223:\tlearn: 0.6004271\ttotal: 4.1s\tremaining: 14.2s\n",
            "224:\tlearn: 0.6002115\ttotal: 4.12s\tremaining: 14.2s\n",
            "225:\tlearn: 0.6000421\ttotal: 4.13s\tremaining: 14.2s\n",
            "226:\tlearn: 0.5998334\ttotal: 4.15s\tremaining: 14.1s\n",
            "227:\tlearn: 0.5997929\ttotal: 4.17s\tremaining: 14.1s\n",
            "228:\tlearn: 0.5996415\ttotal: 4.18s\tremaining: 14.1s\n",
            "229:\tlearn: 0.5995603\ttotal: 4.2s\tremaining: 14.1s\n",
            "230:\tlearn: 0.5995150\ttotal: 4.21s\tremaining: 14s\n",
            "231:\tlearn: 0.5994759\ttotal: 4.23s\tremaining: 14s\n",
            "232:\tlearn: 0.5992150\ttotal: 4.25s\tremaining: 14s\n",
            "233:\tlearn: 0.5989428\ttotal: 4.27s\tremaining: 14s\n",
            "234:\tlearn: 0.5989256\ttotal: 4.29s\tremaining: 14s\n",
            "235:\tlearn: 0.5988488\ttotal: 4.3s\tremaining: 13.9s\n",
            "236:\tlearn: 0.5985555\ttotal: 4.32s\tremaining: 13.9s\n",
            "237:\tlearn: 0.5984050\ttotal: 4.33s\tremaining: 13.9s\n",
            "238:\tlearn: 0.5983110\ttotal: 4.35s\tremaining: 13.9s\n",
            "239:\tlearn: 0.5980864\ttotal: 4.37s\tremaining: 13.8s\n",
            "240:\tlearn: 0.5979967\ttotal: 4.38s\tremaining: 13.8s\n",
            "241:\tlearn: 0.5976837\ttotal: 4.4s\tremaining: 13.8s\n",
            "242:\tlearn: 0.5975323\ttotal: 4.42s\tremaining: 13.8s\n",
            "243:\tlearn: 0.5974833\ttotal: 4.44s\tremaining: 13.7s\n",
            "244:\tlearn: 0.5969759\ttotal: 4.46s\tremaining: 13.7s\n",
            "245:\tlearn: 0.5968687\ttotal: 4.47s\tremaining: 13.7s\n",
            "246:\tlearn: 0.5968380\ttotal: 4.49s\tremaining: 13.7s\n",
            "247:\tlearn: 0.5966600\ttotal: 4.5s\tremaining: 13.7s\n",
            "248:\tlearn: 0.5959595\ttotal: 4.52s\tremaining: 13.6s\n",
            "249:\tlearn: 0.5959002\ttotal: 4.54s\tremaining: 13.6s\n",
            "250:\tlearn: 0.5958837\ttotal: 4.55s\tremaining: 13.6s\n",
            "251:\tlearn: 0.5957969\ttotal: 4.57s\tremaining: 13.6s\n",
            "252:\tlearn: 0.5955204\ttotal: 4.59s\tremaining: 13.5s\n",
            "253:\tlearn: 0.5954927\ttotal: 4.6s\tremaining: 13.5s\n",
            "254:\tlearn: 0.5952912\ttotal: 4.63s\tremaining: 13.5s\n",
            "255:\tlearn: 0.5948151\ttotal: 4.64s\tremaining: 13.5s\n",
            "256:\tlearn: 0.5944654\ttotal: 4.66s\tremaining: 13.5s\n",
            "257:\tlearn: 0.5941903\ttotal: 4.68s\tremaining: 13.5s\n",
            "258:\tlearn: 0.5938141\ttotal: 4.7s\tremaining: 13.4s\n",
            "259:\tlearn: 0.5935161\ttotal: 4.72s\tremaining: 13.4s\n",
            "260:\tlearn: 0.5934552\ttotal: 4.73s\tremaining: 13.4s\n",
            "261:\tlearn: 0.5930790\ttotal: 4.75s\tremaining: 13.4s\n",
            "262:\tlearn: 0.5927851\ttotal: 4.77s\tremaining: 13.4s\n",
            "263:\tlearn: 0.5926777\ttotal: 4.79s\tremaining: 13.3s\n",
            "264:\tlearn: 0.5926050\ttotal: 4.8s\tremaining: 13.3s\n",
            "265:\tlearn: 0.5924264\ttotal: 4.82s\tremaining: 13.3s\n",
            "266:\tlearn: 0.5922751\ttotal: 4.84s\tremaining: 13.3s\n",
            "267:\tlearn: 0.5922595\ttotal: 4.86s\tremaining: 13.3s\n",
            "268:\tlearn: 0.5921275\ttotal: 4.87s\tremaining: 13.2s\n",
            "269:\tlearn: 0.5919940\ttotal: 4.89s\tremaining: 13.2s\n",
            "270:\tlearn: 0.5919719\ttotal: 4.91s\tremaining: 13.2s\n",
            "271:\tlearn: 0.5916919\ttotal: 4.93s\tremaining: 13.2s\n",
            "272:\tlearn: 0.5915994\ttotal: 4.94s\tremaining: 13.2s\n",
            "273:\tlearn: 0.5915288\ttotal: 4.96s\tremaining: 13.1s\n",
            "274:\tlearn: 0.5915026\ttotal: 4.97s\tremaining: 13.1s\n",
            "275:\tlearn: 0.5914102\ttotal: 4.99s\tremaining: 13.1s\n",
            "276:\tlearn: 0.5911778\ttotal: 5.01s\tremaining: 13.1s\n",
            "277:\tlearn: 0.5908347\ttotal: 5.03s\tremaining: 13.1s\n",
            "278:\tlearn: 0.5907713\ttotal: 5.04s\tremaining: 13s\n",
            "279:\tlearn: 0.5907564\ttotal: 5.06s\tremaining: 13s\n",
            "280:\tlearn: 0.5906370\ttotal: 5.08s\tremaining: 13s\n",
            "281:\tlearn: 0.5905147\ttotal: 5.09s\tremaining: 13s\n",
            "282:\tlearn: 0.5902966\ttotal: 5.11s\tremaining: 13s\n",
            "283:\tlearn: 0.5902783\ttotal: 5.13s\tremaining: 12.9s\n",
            "284:\tlearn: 0.5902596\ttotal: 5.14s\tremaining: 12.9s\n",
            "285:\tlearn: 0.5901387\ttotal: 5.16s\tremaining: 12.9s\n",
            "286:\tlearn: 0.5901012\ttotal: 5.18s\tremaining: 12.9s\n",
            "287:\tlearn: 0.5899511\ttotal: 5.19s\tremaining: 12.8s\n",
            "288:\tlearn: 0.5897771\ttotal: 5.21s\tremaining: 12.8s\n",
            "289:\tlearn: 0.5895833\ttotal: 5.23s\tremaining: 12.8s\n",
            "290:\tlearn: 0.5892193\ttotal: 5.25s\tremaining: 12.8s\n",
            "291:\tlearn: 0.5890158\ttotal: 5.26s\tremaining: 12.8s\n",
            "292:\tlearn: 0.5887525\ttotal: 5.28s\tremaining: 12.7s\n",
            "293:\tlearn: 0.5886994\ttotal: 5.29s\tremaining: 12.7s\n",
            "294:\tlearn: 0.5884790\ttotal: 5.31s\tremaining: 12.7s\n",
            "295:\tlearn: 0.5884687\ttotal: 5.33s\tremaining: 12.7s\n",
            "296:\tlearn: 0.5883707\ttotal: 5.34s\tremaining: 12.6s\n",
            "297:\tlearn: 0.5881730\ttotal: 5.36s\tremaining: 12.6s\n",
            "298:\tlearn: 0.5880765\ttotal: 5.37s\tremaining: 12.6s\n",
            "299:\tlearn: 0.5877966\ttotal: 5.39s\tremaining: 12.6s\n",
            "300:\tlearn: 0.5874456\ttotal: 5.41s\tremaining: 12.6s\n",
            "301:\tlearn: 0.5874003\ttotal: 5.43s\tremaining: 12.5s\n",
            "302:\tlearn: 0.5872930\ttotal: 5.45s\tremaining: 12.5s\n",
            "303:\tlearn: 0.5871694\ttotal: 5.46s\tremaining: 12.5s\n",
            "304:\tlearn: 0.5868088\ttotal: 5.48s\tremaining: 12.5s\n",
            "305:\tlearn: 0.5866700\ttotal: 5.5s\tremaining: 12.5s\n",
            "306:\tlearn: 0.5865475\ttotal: 5.52s\tremaining: 12.5s\n",
            "307:\tlearn: 0.5863399\ttotal: 5.54s\tremaining: 12.4s\n",
            "308:\tlearn: 0.5863268\ttotal: 5.55s\tremaining: 12.4s\n",
            "309:\tlearn: 0.5863125\ttotal: 5.57s\tremaining: 12.4s\n",
            "310:\tlearn: 0.5860908\ttotal: 5.58s\tremaining: 12.4s\n",
            "311:\tlearn: 0.5859592\ttotal: 5.6s\tremaining: 12.4s\n",
            "312:\tlearn: 0.5859419\ttotal: 5.62s\tremaining: 12.3s\n",
            "313:\tlearn: 0.5858694\ttotal: 5.63s\tremaining: 12.3s\n",
            "314:\tlearn: 0.5858279\ttotal: 5.65s\tremaining: 12.3s\n",
            "315:\tlearn: 0.5857186\ttotal: 5.67s\tremaining: 12.3s\n",
            "316:\tlearn: 0.5855853\ttotal: 5.68s\tremaining: 12.2s\n",
            "317:\tlearn: 0.5855286\ttotal: 5.7s\tremaining: 12.2s\n",
            "318:\tlearn: 0.5854980\ttotal: 5.71s\tremaining: 12.2s\n",
            "319:\tlearn: 0.5854306\ttotal: 5.77s\tremaining: 12.3s\n",
            "320:\tlearn: 0.5854041\ttotal: 5.78s\tremaining: 12.2s\n",
            "321:\tlearn: 0.5852082\ttotal: 5.8s\tremaining: 12.2s\n",
            "322:\tlearn: 0.5851324\ttotal: 5.82s\tremaining: 12.2s\n",
            "323:\tlearn: 0.5849456\ttotal: 5.84s\tremaining: 12.2s\n",
            "324:\tlearn: 0.5846684\ttotal: 5.86s\tremaining: 12.2s\n",
            "325:\tlearn: 0.5845313\ttotal: 5.87s\tremaining: 12.1s\n",
            "326:\tlearn: 0.5843898\ttotal: 5.89s\tremaining: 12.1s\n",
            "327:\tlearn: 0.5838805\ttotal: 5.91s\tremaining: 12.1s\n",
            "328:\tlearn: 0.5836540\ttotal: 5.93s\tremaining: 12.1s\n",
            "329:\tlearn: 0.5836401\ttotal: 5.94s\tremaining: 12.1s\n",
            "330:\tlearn: 0.5834149\ttotal: 5.96s\tremaining: 12.1s\n",
            "331:\tlearn: 0.5831144\ttotal: 5.98s\tremaining: 12s\n",
            "332:\tlearn: 0.5830706\ttotal: 6s\tremaining: 12s\n",
            "333:\tlearn: 0.5829875\ttotal: 6.01s\tremaining: 12s\n",
            "334:\tlearn: 0.5828050\ttotal: 6.03s\tremaining: 12s\n",
            "335:\tlearn: 0.5827486\ttotal: 6.05s\tremaining: 11.9s\n",
            "336:\tlearn: 0.5825324\ttotal: 6.06s\tremaining: 11.9s\n",
            "337:\tlearn: 0.5825185\ttotal: 6.08s\tremaining: 11.9s\n",
            "338:\tlearn: 0.5823283\ttotal: 6.09s\tremaining: 11.9s\n",
            "339:\tlearn: 0.5820451\ttotal: 6.11s\tremaining: 11.9s\n",
            "340:\tlearn: 0.5819988\ttotal: 6.13s\tremaining: 11.8s\n",
            "341:\tlearn: 0.5818884\ttotal: 6.14s\tremaining: 11.8s\n",
            "342:\tlearn: 0.5818349\ttotal: 6.16s\tremaining: 11.8s\n",
            "343:\tlearn: 0.5817606\ttotal: 6.18s\tremaining: 11.8s\n",
            "344:\tlearn: 0.5816605\ttotal: 6.19s\tremaining: 11.8s\n",
            "345:\tlearn: 0.5815425\ttotal: 6.21s\tremaining: 11.7s\n",
            "346:\tlearn: 0.5813758\ttotal: 6.23s\tremaining: 11.7s\n",
            "347:\tlearn: 0.5813154\ttotal: 6.25s\tremaining: 11.7s\n",
            "348:\tlearn: 0.5812663\ttotal: 6.26s\tremaining: 11.7s\n",
            "349:\tlearn: 0.5812518\ttotal: 6.28s\tremaining: 11.7s\n",
            "350:\tlearn: 0.5812010\ttotal: 6.29s\tremaining: 11.6s\n",
            "351:\tlearn: 0.5811770\ttotal: 6.31s\tremaining: 11.6s\n",
            "352:\tlearn: 0.5808945\ttotal: 6.33s\tremaining: 11.6s\n",
            "353:\tlearn: 0.5807732\ttotal: 6.34s\tremaining: 11.6s\n",
            "354:\tlearn: 0.5807251\ttotal: 6.36s\tremaining: 11.6s\n",
            "355:\tlearn: 0.5806476\ttotal: 6.37s\tremaining: 11.5s\n",
            "356:\tlearn: 0.5803851\ttotal: 6.39s\tremaining: 11.5s\n",
            "357:\tlearn: 0.5803418\ttotal: 6.41s\tremaining: 11.5s\n",
            "358:\tlearn: 0.5802471\ttotal: 6.42s\tremaining: 11.5s\n",
            "359:\tlearn: 0.5798840\ttotal: 6.45s\tremaining: 11.5s\n",
            "360:\tlearn: 0.5797990\ttotal: 6.46s\tremaining: 11.4s\n",
            "361:\tlearn: 0.5797319\ttotal: 6.48s\tremaining: 11.4s\n",
            "362:\tlearn: 0.5790679\ttotal: 6.5s\tremaining: 11.4s\n",
            "363:\tlearn: 0.5789406\ttotal: 6.52s\tremaining: 11.4s\n",
            "364:\tlearn: 0.5789070\ttotal: 6.54s\tremaining: 11.4s\n",
            "365:\tlearn: 0.5787980\ttotal: 6.56s\tremaining: 11.4s\n",
            "366:\tlearn: 0.5787820\ttotal: 6.57s\tremaining: 11.3s\n",
            "367:\tlearn: 0.5786414\ttotal: 6.59s\tremaining: 11.3s\n",
            "368:\tlearn: 0.5785114\ttotal: 6.61s\tremaining: 11.3s\n",
            "369:\tlearn: 0.5784804\ttotal: 6.63s\tremaining: 11.3s\n",
            "370:\tlearn: 0.5783082\ttotal: 6.64s\tremaining: 11.3s\n",
            "371:\tlearn: 0.5776847\ttotal: 6.66s\tremaining: 11.3s\n",
            "372:\tlearn: 0.5775343\ttotal: 6.68s\tremaining: 11.2s\n",
            "373:\tlearn: 0.5772449\ttotal: 6.7s\tremaining: 11.2s\n",
            "374:\tlearn: 0.5771958\ttotal: 6.72s\tremaining: 11.2s\n",
            "375:\tlearn: 0.5771107\ttotal: 6.74s\tremaining: 11.2s\n",
            "376:\tlearn: 0.5769314\ttotal: 6.75s\tremaining: 11.2s\n",
            "377:\tlearn: 0.5768733\ttotal: 6.77s\tremaining: 11.1s\n",
            "378:\tlearn: 0.5768654\ttotal: 6.78s\tremaining: 11.1s\n",
            "379:\tlearn: 0.5764479\ttotal: 6.8s\tremaining: 11.1s\n",
            "380:\tlearn: 0.5762854\ttotal: 6.82s\tremaining: 11.1s\n",
            "381:\tlearn: 0.5761347\ttotal: 6.83s\tremaining: 11.1s\n",
            "382:\tlearn: 0.5759070\ttotal: 6.85s\tremaining: 11s\n",
            "383:\tlearn: 0.5757658\ttotal: 6.87s\tremaining: 11s\n",
            "384:\tlearn: 0.5756033\ttotal: 6.89s\tremaining: 11s\n",
            "385:\tlearn: 0.5755645\ttotal: 6.91s\tremaining: 11s\n",
            "386:\tlearn: 0.5755524\ttotal: 6.92s\tremaining: 11s\n",
            "387:\tlearn: 0.5754082\ttotal: 6.94s\tremaining: 10.9s\n",
            "388:\tlearn: 0.5753341\ttotal: 6.96s\tremaining: 10.9s\n",
            "389:\tlearn: 0.5751904\ttotal: 6.97s\tremaining: 10.9s\n",
            "390:\tlearn: 0.5750113\ttotal: 6.99s\tremaining: 10.9s\n",
            "391:\tlearn: 0.5747652\ttotal: 7.01s\tremaining: 10.9s\n",
            "392:\tlearn: 0.5747103\ttotal: 7.02s\tremaining: 10.8s\n",
            "393:\tlearn: 0.5746605\ttotal: 7.04s\tremaining: 10.8s\n",
            "394:\tlearn: 0.5746523\ttotal: 7.06s\tremaining: 10.8s\n",
            "395:\tlearn: 0.5746184\ttotal: 7.07s\tremaining: 10.8s\n",
            "396:\tlearn: 0.5745087\ttotal: 7.09s\tremaining: 10.8s\n",
            "397:\tlearn: 0.5742948\ttotal: 7.11s\tremaining: 10.7s\n",
            "398:\tlearn: 0.5742759\ttotal: 7.12s\tremaining: 10.7s\n",
            "399:\tlearn: 0.5741031\ttotal: 7.14s\tremaining: 10.7s\n",
            "400:\tlearn: 0.5740530\ttotal: 7.15s\tremaining: 10.7s\n",
            "401:\tlearn: 0.5739050\ttotal: 7.17s\tremaining: 10.7s\n",
            "402:\tlearn: 0.5738207\ttotal: 7.18s\tremaining: 10.6s\n",
            "403:\tlearn: 0.5734038\ttotal: 7.2s\tremaining: 10.6s\n",
            "404:\tlearn: 0.5733304\ttotal: 7.22s\tremaining: 10.6s\n",
            "405:\tlearn: 0.5733010\ttotal: 7.23s\tremaining: 10.6s\n",
            "406:\tlearn: 0.5731345\ttotal: 7.25s\tremaining: 10.6s\n",
            "407:\tlearn: 0.5727962\ttotal: 7.27s\tremaining: 10.5s\n",
            "408:\tlearn: 0.5727771\ttotal: 7.28s\tremaining: 10.5s\n",
            "409:\tlearn: 0.5726576\ttotal: 7.3s\tremaining: 10.5s\n",
            "410:\tlearn: 0.5725990\ttotal: 7.32s\tremaining: 10.5s\n",
            "411:\tlearn: 0.5725771\ttotal: 7.33s\tremaining: 10.5s\n",
            "412:\tlearn: 0.5724813\ttotal: 7.35s\tremaining: 10.4s\n",
            "413:\tlearn: 0.5722811\ttotal: 7.37s\tremaining: 10.4s\n",
            "414:\tlearn: 0.5722609\ttotal: 7.39s\tremaining: 10.4s\n",
            "415:\tlearn: 0.5722479\ttotal: 7.4s\tremaining: 10.4s\n",
            "416:\tlearn: 0.5721920\ttotal: 7.42s\tremaining: 10.4s\n",
            "417:\tlearn: 0.5721056\ttotal: 7.44s\tremaining: 10.4s\n",
            "418:\tlearn: 0.5719844\ttotal: 7.45s\tremaining: 10.3s\n",
            "419:\tlearn: 0.5719483\ttotal: 7.47s\tremaining: 10.3s\n",
            "420:\tlearn: 0.5719073\ttotal: 7.49s\tremaining: 10.3s\n",
            "421:\tlearn: 0.5717618\ttotal: 7.51s\tremaining: 10.3s\n",
            "422:\tlearn: 0.5717031\ttotal: 7.53s\tremaining: 10.3s\n",
            "423:\tlearn: 0.5715035\ttotal: 7.54s\tremaining: 10.2s\n",
            "424:\tlearn: 0.5714841\ttotal: 7.56s\tremaining: 10.2s\n",
            "425:\tlearn: 0.5710296\ttotal: 7.58s\tremaining: 10.2s\n",
            "426:\tlearn: 0.5710069\ttotal: 7.6s\tremaining: 10.2s\n",
            "427:\tlearn: 0.5707202\ttotal: 7.62s\tremaining: 10.2s\n",
            "428:\tlearn: 0.5704963\ttotal: 7.64s\tremaining: 10.2s\n",
            "429:\tlearn: 0.5703310\ttotal: 7.66s\tremaining: 10.1s\n",
            "430:\tlearn: 0.5702355\ttotal: 7.67s\tremaining: 10.1s\n",
            "431:\tlearn: 0.5700446\ttotal: 7.69s\tremaining: 10.1s\n",
            "432:\tlearn: 0.5700354\ttotal: 7.71s\tremaining: 10.1s\n",
            "433:\tlearn: 0.5699567\ttotal: 7.72s\tremaining: 10.1s\n",
            "434:\tlearn: 0.5697433\ttotal: 7.74s\tremaining: 10.1s\n",
            "435:\tlearn: 0.5697164\ttotal: 7.76s\tremaining: 10s\n",
            "436:\tlearn: 0.5696076\ttotal: 7.77s\tremaining: 10s\n",
            "437:\tlearn: 0.5694231\ttotal: 7.79s\tremaining: 10s\n",
            "438:\tlearn: 0.5692704\ttotal: 7.81s\tremaining: 9.98s\n",
            "439:\tlearn: 0.5689647\ttotal: 7.83s\tremaining: 9.97s\n",
            "440:\tlearn: 0.5689325\ttotal: 7.85s\tremaining: 9.95s\n",
            "441:\tlearn: 0.5688901\ttotal: 7.86s\tremaining: 9.93s\n",
            "442:\tlearn: 0.5688225\ttotal: 7.88s\tremaining: 9.91s\n",
            "443:\tlearn: 0.5687819\ttotal: 7.9s\tremaining: 9.89s\n",
            "444:\tlearn: 0.5687003\ttotal: 7.91s\tremaining: 9.87s\n",
            "445:\tlearn: 0.5686774\ttotal: 7.93s\tremaining: 9.85s\n",
            "446:\tlearn: 0.5685272\ttotal: 7.95s\tremaining: 9.84s\n",
            "447:\tlearn: 0.5685065\ttotal: 7.97s\tremaining: 9.82s\n",
            "448:\tlearn: 0.5684514\ttotal: 7.98s\tremaining: 9.79s\n",
            "449:\tlearn: 0.5684403\ttotal: 8s\tremaining: 9.77s\n",
            "450:\tlearn: 0.5683956\ttotal: 8.01s\tremaining: 9.75s\n",
            "451:\tlearn: 0.5683075\ttotal: 8.03s\tremaining: 9.73s\n",
            "452:\tlearn: 0.5682980\ttotal: 8.04s\tremaining: 9.71s\n",
            "453:\tlearn: 0.5682869\ttotal: 8.06s\tremaining: 9.69s\n",
            "454:\tlearn: 0.5682620\ttotal: 8.07s\tremaining: 9.67s\n",
            "455:\tlearn: 0.5681966\ttotal: 8.09s\tremaining: 9.65s\n",
            "456:\tlearn: 0.5681549\ttotal: 8.11s\tremaining: 9.63s\n",
            "457:\tlearn: 0.5680817\ttotal: 8.12s\tremaining: 9.61s\n",
            "458:\tlearn: 0.5680256\ttotal: 8.14s\tremaining: 9.6s\n",
            "459:\tlearn: 0.5679202\ttotal: 8.16s\tremaining: 9.58s\n",
            "460:\tlearn: 0.5678446\ttotal: 8.17s\tremaining: 9.56s\n",
            "461:\tlearn: 0.5677473\ttotal: 8.19s\tremaining: 9.54s\n",
            "462:\tlearn: 0.5676687\ttotal: 8.21s\tremaining: 9.52s\n",
            "463:\tlearn: 0.5674760\ttotal: 8.22s\tremaining: 9.5s\n",
            "464:\tlearn: 0.5674511\ttotal: 8.24s\tremaining: 9.48s\n",
            "465:\tlearn: 0.5673402\ttotal: 8.25s\tremaining: 9.46s\n",
            "466:\tlearn: 0.5672986\ttotal: 8.27s\tremaining: 9.44s\n",
            "467:\tlearn: 0.5672134\ttotal: 8.29s\tremaining: 9.42s\n",
            "468:\tlearn: 0.5672028\ttotal: 8.3s\tremaining: 9.4s\n",
            "469:\tlearn: 0.5667842\ttotal: 8.32s\tremaining: 9.38s\n",
            "470:\tlearn: 0.5667576\ttotal: 8.34s\tremaining: 9.37s\n",
            "471:\tlearn: 0.5667378\ttotal: 8.36s\tremaining: 9.35s\n",
            "472:\tlearn: 0.5666169\ttotal: 8.38s\tremaining: 9.34s\n",
            "473:\tlearn: 0.5663796\ttotal: 8.4s\tremaining: 9.33s\n",
            "474:\tlearn: 0.5663000\ttotal: 8.43s\tremaining: 9.31s\n",
            "475:\tlearn: 0.5660182\ttotal: 8.45s\tremaining: 9.3s\n",
            "476:\tlearn: 0.5660015\ttotal: 8.46s\tremaining: 9.28s\n",
            "477:\tlearn: 0.5659560\ttotal: 8.48s\tremaining: 9.26s\n",
            "478:\tlearn: 0.5659212\ttotal: 8.5s\tremaining: 9.24s\n",
            "479:\tlearn: 0.5659098\ttotal: 8.52s\tremaining: 9.23s\n",
            "480:\tlearn: 0.5658603\ttotal: 8.54s\tremaining: 9.21s\n",
            "481:\tlearn: 0.5657852\ttotal: 8.55s\tremaining: 9.19s\n",
            "482:\tlearn: 0.5657024\ttotal: 8.57s\tremaining: 9.17s\n",
            "483:\tlearn: 0.5656869\ttotal: 8.58s\tremaining: 9.15s\n",
            "484:\tlearn: 0.5654591\ttotal: 8.6s\tremaining: 9.13s\n",
            "485:\tlearn: 0.5652986\ttotal: 8.62s\tremaining: 9.11s\n",
            "486:\tlearn: 0.5652278\ttotal: 8.63s\tremaining: 9.09s\n",
            "487:\tlearn: 0.5651031\ttotal: 8.65s\tremaining: 9.07s\n",
            "488:\tlearn: 0.5650326\ttotal: 8.67s\tremaining: 9.06s\n",
            "489:\tlearn: 0.5649888\ttotal: 8.68s\tremaining: 9.04s\n",
            "490:\tlearn: 0.5649203\ttotal: 8.7s\tremaining: 9.02s\n",
            "491:\tlearn: 0.5648424\ttotal: 8.72s\tremaining: 9s\n",
            "492:\tlearn: 0.5647149\ttotal: 8.73s\tremaining: 8.98s\n",
            "493:\tlearn: 0.5646819\ttotal: 8.75s\tremaining: 8.96s\n",
            "494:\tlearn: 0.5645544\ttotal: 8.77s\tremaining: 8.94s\n",
            "495:\tlearn: 0.5644802\ttotal: 8.78s\tremaining: 8.93s\n",
            "496:\tlearn: 0.5641693\ttotal: 8.8s\tremaining: 8.91s\n",
            "497:\tlearn: 0.5640813\ttotal: 8.82s\tremaining: 8.89s\n",
            "498:\tlearn: 0.5637792\ttotal: 8.84s\tremaining: 8.87s\n",
            "499:\tlearn: 0.5636668\ttotal: 8.86s\tremaining: 8.86s\n",
            "500:\tlearn: 0.5636388\ttotal: 8.87s\tremaining: 8.84s\n",
            "501:\tlearn: 0.5636227\ttotal: 8.89s\tremaining: 8.82s\n",
            "502:\tlearn: 0.5635861\ttotal: 8.91s\tremaining: 8.8s\n",
            "503:\tlearn: 0.5634008\ttotal: 8.92s\tremaining: 8.78s\n",
            "504:\tlearn: 0.5631819\ttotal: 8.95s\tremaining: 8.77s\n",
            "505:\tlearn: 0.5631379\ttotal: 8.96s\tremaining: 8.75s\n",
            "506:\tlearn: 0.5630293\ttotal: 8.98s\tremaining: 8.73s\n",
            "507:\tlearn: 0.5628383\ttotal: 9s\tremaining: 8.72s\n",
            "508:\tlearn: 0.5626652\ttotal: 9.02s\tremaining: 8.7s\n",
            "509:\tlearn: 0.5625423\ttotal: 9.03s\tremaining: 8.68s\n",
            "510:\tlearn: 0.5624176\ttotal: 9.05s\tremaining: 8.66s\n",
            "511:\tlearn: 0.5623083\ttotal: 9.07s\tremaining: 8.64s\n",
            "512:\tlearn: 0.5622162\ttotal: 9.08s\tremaining: 8.62s\n",
            "513:\tlearn: 0.5622034\ttotal: 9.1s\tremaining: 8.6s\n",
            "514:\tlearn: 0.5621738\ttotal: 9.11s\tremaining: 8.58s\n",
            "515:\tlearn: 0.5621518\ttotal: 9.13s\tremaining: 8.56s\n",
            "516:\tlearn: 0.5618265\ttotal: 9.15s\tremaining: 8.55s\n",
            "517:\tlearn: 0.5618033\ttotal: 9.16s\tremaining: 8.53s\n",
            "518:\tlearn: 0.5614108\ttotal: 9.18s\tremaining: 8.51s\n",
            "519:\tlearn: 0.5613869\ttotal: 9.2s\tremaining: 8.49s\n",
            "520:\tlearn: 0.5611589\ttotal: 9.22s\tremaining: 8.47s\n",
            "521:\tlearn: 0.5610513\ttotal: 9.23s\tremaining: 8.46s\n",
            "522:\tlearn: 0.5609141\ttotal: 9.25s\tremaining: 8.44s\n",
            "523:\tlearn: 0.5605761\ttotal: 9.27s\tremaining: 8.42s\n",
            "524:\tlearn: 0.5602576\ttotal: 9.29s\tremaining: 8.4s\n",
            "525:\tlearn: 0.5601715\ttotal: 9.3s\tremaining: 8.38s\n",
            "526:\tlearn: 0.5601499\ttotal: 9.32s\tremaining: 8.36s\n",
            "527:\tlearn: 0.5601071\ttotal: 9.33s\tremaining: 8.34s\n",
            "528:\tlearn: 0.5600670\ttotal: 9.35s\tremaining: 8.32s\n",
            "529:\tlearn: 0.5600472\ttotal: 9.36s\tremaining: 8.3s\n",
            "530:\tlearn: 0.5599342\ttotal: 9.38s\tremaining: 8.29s\n",
            "531:\tlearn: 0.5598848\ttotal: 9.4s\tremaining: 8.27s\n",
            "532:\tlearn: 0.5595661\ttotal: 9.42s\tremaining: 8.25s\n",
            "533:\tlearn: 0.5595487\ttotal: 9.43s\tremaining: 8.23s\n",
            "534:\tlearn: 0.5594811\ttotal: 9.45s\tremaining: 8.21s\n",
            "535:\tlearn: 0.5594597\ttotal: 9.47s\tremaining: 8.2s\n",
            "536:\tlearn: 0.5594228\ttotal: 9.48s\tremaining: 8.18s\n",
            "537:\tlearn: 0.5594164\ttotal: 9.5s\tremaining: 8.15s\n",
            "538:\tlearn: 0.5593010\ttotal: 9.51s\tremaining: 8.14s\n",
            "539:\tlearn: 0.5591173\ttotal: 9.53s\tremaining: 8.12s\n",
            "540:\tlearn: 0.5590962\ttotal: 9.55s\tremaining: 8.1s\n",
            "541:\tlearn: 0.5590706\ttotal: 9.56s\tremaining: 8.08s\n",
            "542:\tlearn: 0.5587715\ttotal: 9.59s\tremaining: 8.07s\n",
            "543:\tlearn: 0.5586003\ttotal: 9.61s\tremaining: 8.05s\n",
            "544:\tlearn: 0.5585858\ttotal: 9.62s\tremaining: 8.03s\n",
            "545:\tlearn: 0.5583863\ttotal: 9.64s\tremaining: 8.02s\n",
            "546:\tlearn: 0.5581666\ttotal: 9.66s\tremaining: 8s\n",
            "547:\tlearn: 0.5580955\ttotal: 9.68s\tremaining: 7.98s\n",
            "548:\tlearn: 0.5578741\ttotal: 9.7s\tremaining: 7.96s\n",
            "549:\tlearn: 0.5577843\ttotal: 9.71s\tremaining: 7.95s\n",
            "550:\tlearn: 0.5577489\ttotal: 9.73s\tremaining: 7.93s\n",
            "551:\tlearn: 0.5576377\ttotal: 9.75s\tremaining: 7.91s\n",
            "552:\tlearn: 0.5573986\ttotal: 9.77s\tremaining: 7.89s\n",
            "553:\tlearn: 0.5572787\ttotal: 9.79s\tremaining: 7.88s\n",
            "554:\tlearn: 0.5572336\ttotal: 9.8s\tremaining: 7.86s\n",
            "555:\tlearn: 0.5569520\ttotal: 9.82s\tremaining: 7.84s\n",
            "556:\tlearn: 0.5567439\ttotal: 9.84s\tremaining: 7.83s\n",
            "557:\tlearn: 0.5565106\ttotal: 9.86s\tremaining: 7.81s\n",
            "558:\tlearn: 0.5564819\ttotal: 9.87s\tremaining: 7.79s\n",
            "559:\tlearn: 0.5562190\ttotal: 9.89s\tremaining: 7.77s\n",
            "560:\tlearn: 0.5559688\ttotal: 9.91s\tremaining: 7.75s\n",
            "561:\tlearn: 0.5559049\ttotal: 9.93s\tremaining: 7.74s\n",
            "562:\tlearn: 0.5557255\ttotal: 9.94s\tremaining: 7.72s\n",
            "563:\tlearn: 0.5556545\ttotal: 9.96s\tremaining: 7.7s\n",
            "564:\tlearn: 0.5554680\ttotal: 9.98s\tremaining: 7.68s\n",
            "565:\tlearn: 0.5553554\ttotal: 9.99s\tremaining: 7.66s\n",
            "566:\tlearn: 0.5553488\ttotal: 10s\tremaining: 7.65s\n",
            "567:\tlearn: 0.5551780\ttotal: 10s\tremaining: 7.63s\n",
            "568:\tlearn: 0.5550521\ttotal: 10s\tremaining: 7.61s\n",
            "569:\tlearn: 0.5549787\ttotal: 10.1s\tremaining: 7.59s\n",
            "570:\tlearn: 0.5549723\ttotal: 10.1s\tremaining: 7.57s\n",
            "571:\tlearn: 0.5548913\ttotal: 10.1s\tremaining: 7.55s\n",
            "572:\tlearn: 0.5548831\ttotal: 10.1s\tremaining: 7.54s\n",
            "573:\tlearn: 0.5544125\ttotal: 10.1s\tremaining: 7.52s\n",
            "574:\tlearn: 0.5543348\ttotal: 10.2s\tremaining: 7.5s\n",
            "575:\tlearn: 0.5542105\ttotal: 10.2s\tremaining: 7.49s\n",
            "576:\tlearn: 0.5538493\ttotal: 10.2s\tremaining: 7.47s\n",
            "577:\tlearn: 0.5535779\ttotal: 10.2s\tremaining: 7.45s\n",
            "578:\tlearn: 0.5535629\ttotal: 10.2s\tremaining: 7.43s\n",
            "579:\tlearn: 0.5534268\ttotal: 10.2s\tremaining: 7.42s\n",
            "580:\tlearn: 0.5531790\ttotal: 10.3s\tremaining: 7.4s\n",
            "581:\tlearn: 0.5528524\ttotal: 10.3s\tremaining: 7.38s\n",
            "582:\tlearn: 0.5526427\ttotal: 10.3s\tremaining: 7.37s\n",
            "583:\tlearn: 0.5526312\ttotal: 10.3s\tremaining: 7.35s\n",
            "584:\tlearn: 0.5523158\ttotal: 10.3s\tremaining: 7.33s\n",
            "585:\tlearn: 0.5520739\ttotal: 10.3s\tremaining: 7.31s\n",
            "586:\tlearn: 0.5520488\ttotal: 10.4s\tremaining: 7.29s\n",
            "587:\tlearn: 0.5519001\ttotal: 10.4s\tremaining: 7.28s\n",
            "588:\tlearn: 0.5517213\ttotal: 10.4s\tremaining: 7.26s\n",
            "589:\tlearn: 0.5517125\ttotal: 10.4s\tremaining: 7.24s\n",
            "590:\tlearn: 0.5516729\ttotal: 10.4s\tremaining: 7.22s\n",
            "591:\tlearn: 0.5514452\ttotal: 10.5s\tremaining: 7.2s\n",
            "592:\tlearn: 0.5514394\ttotal: 10.5s\tremaining: 7.18s\n",
            "593:\tlearn: 0.5513574\ttotal: 10.5s\tremaining: 7.17s\n",
            "594:\tlearn: 0.5513297\ttotal: 10.5s\tremaining: 7.15s\n",
            "595:\tlearn: 0.5512785\ttotal: 10.5s\tremaining: 7.13s\n",
            "596:\tlearn: 0.5511894\ttotal: 10.5s\tremaining: 7.11s\n",
            "597:\tlearn: 0.5511771\ttotal: 10.6s\tremaining: 7.09s\n",
            "598:\tlearn: 0.5509898\ttotal: 10.6s\tremaining: 7.07s\n",
            "599:\tlearn: 0.5507960\ttotal: 10.6s\tremaining: 7.06s\n",
            "600:\tlearn: 0.5507469\ttotal: 10.6s\tremaining: 7.04s\n",
            "601:\tlearn: 0.5506761\ttotal: 10.6s\tremaining: 7.02s\n",
            "602:\tlearn: 0.5506601\ttotal: 10.6s\tremaining: 7s\n",
            "603:\tlearn: 0.5505646\ttotal: 10.7s\tremaining: 6.98s\n",
            "604:\tlearn: 0.5505503\ttotal: 10.7s\tremaining: 6.97s\n",
            "605:\tlearn: 0.5503013\ttotal: 10.7s\tremaining: 6.95s\n",
            "606:\tlearn: 0.5502844\ttotal: 10.7s\tremaining: 6.93s\n",
            "607:\tlearn: 0.5500933\ttotal: 10.7s\tremaining: 6.91s\n",
            "608:\tlearn: 0.5500788\ttotal: 10.7s\tremaining: 6.89s\n",
            "609:\tlearn: 0.5498676\ttotal: 10.8s\tremaining: 6.88s\n",
            "610:\tlearn: 0.5497333\ttotal: 10.8s\tremaining: 6.86s\n",
            "611:\tlearn: 0.5494237\ttotal: 10.8s\tremaining: 6.84s\n",
            "612:\tlearn: 0.5492161\ttotal: 10.8s\tremaining: 6.83s\n",
            "613:\tlearn: 0.5491237\ttotal: 10.8s\tremaining: 6.81s\n",
            "614:\tlearn: 0.5490835\ttotal: 10.8s\tremaining: 6.79s\n",
            "615:\tlearn: 0.5490226\ttotal: 10.9s\tremaining: 6.77s\n",
            "616:\tlearn: 0.5488769\ttotal: 10.9s\tremaining: 6.75s\n",
            "617:\tlearn: 0.5488453\ttotal: 10.9s\tremaining: 6.74s\n",
            "618:\tlearn: 0.5488105\ttotal: 10.9s\tremaining: 6.72s\n",
            "619:\tlearn: 0.5487736\ttotal: 10.9s\tremaining: 6.7s\n",
            "620:\tlearn: 0.5487610\ttotal: 10.9s\tremaining: 6.68s\n",
            "621:\tlearn: 0.5487148\ttotal: 11s\tremaining: 6.66s\n",
            "622:\tlearn: 0.5485501\ttotal: 11s\tremaining: 6.64s\n",
            "623:\tlearn: 0.5484567\ttotal: 11s\tremaining: 6.63s\n",
            "624:\tlearn: 0.5484130\ttotal: 11s\tremaining: 6.61s\n",
            "625:\tlearn: 0.5482840\ttotal: 11s\tremaining: 6.59s\n",
            "626:\tlearn: 0.5481853\ttotal: 11.1s\tremaining: 6.57s\n",
            "627:\tlearn: 0.5479238\ttotal: 11.1s\tremaining: 6.56s\n",
            "628:\tlearn: 0.5477685\ttotal: 11.1s\tremaining: 6.54s\n",
            "629:\tlearn: 0.5477348\ttotal: 11.1s\tremaining: 6.52s\n",
            "630:\tlearn: 0.5476344\ttotal: 11.1s\tremaining: 6.5s\n",
            "631:\tlearn: 0.5476138\ttotal: 11.1s\tremaining: 6.49s\n",
            "632:\tlearn: 0.5475690\ttotal: 11.2s\tremaining: 6.47s\n",
            "633:\tlearn: 0.5474932\ttotal: 11.2s\tremaining: 6.45s\n",
            "634:\tlearn: 0.5473912\ttotal: 11.2s\tremaining: 6.43s\n",
            "635:\tlearn: 0.5472250\ttotal: 11.2s\tremaining: 6.41s\n",
            "636:\tlearn: 0.5469101\ttotal: 11.2s\tremaining: 6.4s\n",
            "637:\tlearn: 0.5468815\ttotal: 11.2s\tremaining: 6.38s\n",
            "638:\tlearn: 0.5466490\ttotal: 11.3s\tremaining: 6.36s\n",
            "639:\tlearn: 0.5465860\ttotal: 11.3s\tremaining: 6.34s\n",
            "640:\tlearn: 0.5464512\ttotal: 11.3s\tremaining: 6.33s\n",
            "641:\tlearn: 0.5461822\ttotal: 11.3s\tremaining: 6.31s\n",
            "642:\tlearn: 0.5460279\ttotal: 11.3s\tremaining: 6.29s\n",
            "643:\tlearn: 0.5457231\ttotal: 11.4s\tremaining: 6.28s\n",
            "644:\tlearn: 0.5456171\ttotal: 11.4s\tremaining: 6.26s\n",
            "645:\tlearn: 0.5455976\ttotal: 11.4s\tremaining: 6.24s\n",
            "646:\tlearn: 0.5455491\ttotal: 11.4s\tremaining: 6.22s\n",
            "647:\tlearn: 0.5454009\ttotal: 11.4s\tremaining: 6.2s\n",
            "648:\tlearn: 0.5453807\ttotal: 11.4s\tremaining: 6.18s\n",
            "649:\tlearn: 0.5451443\ttotal: 11.5s\tremaining: 6.17s\n",
            "650:\tlearn: 0.5451264\ttotal: 11.5s\tremaining: 6.15s\n",
            "651:\tlearn: 0.5450096\ttotal: 11.5s\tremaining: 6.13s\n",
            "652:\tlearn: 0.5447521\ttotal: 11.5s\tremaining: 6.11s\n",
            "653:\tlearn: 0.5445715\ttotal: 11.5s\tremaining: 6.1s\n",
            "654:\tlearn: 0.5445256\ttotal: 11.5s\tremaining: 6.08s\n",
            "655:\tlearn: 0.5444755\ttotal: 11.6s\tremaining: 6.06s\n",
            "656:\tlearn: 0.5443704\ttotal: 11.6s\tremaining: 6.04s\n",
            "657:\tlearn: 0.5443089\ttotal: 11.6s\tremaining: 6.02s\n",
            "658:\tlearn: 0.5442609\ttotal: 11.6s\tremaining: 6s\n",
            "659:\tlearn: 0.5442234\ttotal: 11.6s\tremaining: 5.99s\n",
            "660:\tlearn: 0.5438225\ttotal: 11.6s\tremaining: 5.97s\n",
            "661:\tlearn: 0.5436266\ttotal: 11.7s\tremaining: 5.95s\n",
            "662:\tlearn: 0.5434020\ttotal: 11.7s\tremaining: 5.93s\n",
            "663:\tlearn: 0.5433063\ttotal: 11.7s\tremaining: 5.92s\n",
            "664:\tlearn: 0.5432663\ttotal: 11.7s\tremaining: 5.9s\n",
            "665:\tlearn: 0.5430945\ttotal: 11.7s\tremaining: 5.88s\n",
            "666:\tlearn: 0.5429591\ttotal: 11.7s\tremaining: 5.86s\n",
            "667:\tlearn: 0.5428531\ttotal: 11.8s\tremaining: 5.85s\n",
            "668:\tlearn: 0.5428349\ttotal: 11.8s\tremaining: 5.83s\n",
            "669:\tlearn: 0.5426029\ttotal: 11.8s\tremaining: 5.81s\n",
            "670:\tlearn: 0.5424552\ttotal: 11.8s\tremaining: 5.79s\n",
            "671:\tlearn: 0.5424290\ttotal: 11.8s\tremaining: 5.78s\n",
            "672:\tlearn: 0.5423242\ttotal: 11.9s\tremaining: 5.76s\n",
            "673:\tlearn: 0.5420871\ttotal: 11.9s\tremaining: 5.74s\n",
            "674:\tlearn: 0.5420533\ttotal: 11.9s\tremaining: 5.72s\n",
            "675:\tlearn: 0.5419943\ttotal: 11.9s\tremaining: 5.71s\n",
            "676:\tlearn: 0.5418356\ttotal: 11.9s\tremaining: 5.69s\n",
            "677:\tlearn: 0.5416364\ttotal: 11.9s\tremaining: 5.67s\n",
            "678:\tlearn: 0.5413893\ttotal: 12s\tremaining: 5.66s\n",
            "679:\tlearn: 0.5413629\ttotal: 12s\tremaining: 5.64s\n",
            "680:\tlearn: 0.5411652\ttotal: 12s\tremaining: 5.62s\n",
            "681:\tlearn: 0.5408089\ttotal: 12s\tremaining: 5.6s\n",
            "682:\tlearn: 0.5405006\ttotal: 12s\tremaining: 5.59s\n",
            "683:\tlearn: 0.5404508\ttotal: 12.1s\tremaining: 5.57s\n",
            "684:\tlearn: 0.5403154\ttotal: 12.1s\tremaining: 5.55s\n",
            "685:\tlearn: 0.5402253\ttotal: 12.1s\tremaining: 5.53s\n",
            "686:\tlearn: 0.5401667\ttotal: 12.1s\tremaining: 5.51s\n",
            "687:\tlearn: 0.5401496\ttotal: 12.1s\tremaining: 5.5s\n",
            "688:\tlearn: 0.5400991\ttotal: 12.1s\tremaining: 5.48s\n",
            "689:\tlearn: 0.5399414\ttotal: 12.2s\tremaining: 5.46s\n",
            "690:\tlearn: 0.5398232\ttotal: 12.2s\tremaining: 5.44s\n",
            "691:\tlearn: 0.5398086\ttotal: 12.2s\tremaining: 5.42s\n",
            "692:\tlearn: 0.5397594\ttotal: 12.2s\tremaining: 5.4s\n",
            "693:\tlearn: 0.5397277\ttotal: 12.2s\tremaining: 5.39s\n",
            "694:\tlearn: 0.5396424\ttotal: 12.2s\tremaining: 5.37s\n",
            "695:\tlearn: 0.5396193\ttotal: 12.3s\tremaining: 5.35s\n",
            "696:\tlearn: 0.5394923\ttotal: 12.3s\tremaining: 5.33s\n",
            "697:\tlearn: 0.5392841\ttotal: 12.3s\tremaining: 5.32s\n",
            "698:\tlearn: 0.5391857\ttotal: 12.3s\tremaining: 5.3s\n",
            "699:\tlearn: 0.5391758\ttotal: 12.3s\tremaining: 5.28s\n",
            "700:\tlearn: 0.5391382\ttotal: 12.3s\tremaining: 5.26s\n",
            "701:\tlearn: 0.5390311\ttotal: 12.4s\tremaining: 5.24s\n",
            "702:\tlearn: 0.5388605\ttotal: 12.4s\tremaining: 5.22s\n",
            "703:\tlearn: 0.5388478\ttotal: 12.4s\tremaining: 5.21s\n",
            "704:\tlearn: 0.5387870\ttotal: 12.4s\tremaining: 5.19s\n",
            "705:\tlearn: 0.5387823\ttotal: 12.4s\tremaining: 5.17s\n",
            "706:\tlearn: 0.5387320\ttotal: 12.4s\tremaining: 5.15s\n",
            "707:\tlearn: 0.5384893\ttotal: 12.4s\tremaining: 5.13s\n",
            "708:\tlearn: 0.5384293\ttotal: 12.5s\tremaining: 5.12s\n",
            "709:\tlearn: 0.5382580\ttotal: 12.5s\tremaining: 5.1s\n",
            "710:\tlearn: 0.5382513\ttotal: 12.5s\tremaining: 5.08s\n",
            "711:\tlearn: 0.5380413\ttotal: 12.5s\tremaining: 5.06s\n",
            "712:\tlearn: 0.5378494\ttotal: 12.5s\tremaining: 5.04s\n",
            "713:\tlearn: 0.5377184\ttotal: 12.5s\tremaining: 5.03s\n",
            "714:\tlearn: 0.5376042\ttotal: 12.6s\tremaining: 5.01s\n",
            "715:\tlearn: 0.5375316\ttotal: 12.6s\tremaining: 4.99s\n",
            "716:\tlearn: 0.5374340\ttotal: 12.6s\tremaining: 4.97s\n",
            "717:\tlearn: 0.5373751\ttotal: 12.6s\tremaining: 4.95s\n",
            "718:\tlearn: 0.5372818\ttotal: 12.6s\tremaining: 4.94s\n",
            "719:\tlearn: 0.5372613\ttotal: 12.7s\tremaining: 4.92s\n",
            "720:\tlearn: 0.5370700\ttotal: 12.7s\tremaining: 4.9s\n",
            "721:\tlearn: 0.5370569\ttotal: 12.7s\tremaining: 4.88s\n",
            "722:\tlearn: 0.5369154\ttotal: 12.7s\tremaining: 4.87s\n",
            "723:\tlearn: 0.5368778\ttotal: 12.7s\tremaining: 4.85s\n",
            "724:\tlearn: 0.5367282\ttotal: 12.7s\tremaining: 4.83s\n",
            "725:\tlearn: 0.5366351\ttotal: 12.8s\tremaining: 4.81s\n",
            "726:\tlearn: 0.5363565\ttotal: 12.8s\tremaining: 4.8s\n",
            "727:\tlearn: 0.5362617\ttotal: 12.8s\tremaining: 4.78s\n",
            "728:\tlearn: 0.5360637\ttotal: 12.8s\tremaining: 4.76s\n",
            "729:\tlearn: 0.5358469\ttotal: 12.8s\tremaining: 4.74s\n",
            "730:\tlearn: 0.5355598\ttotal: 12.8s\tremaining: 4.73s\n",
            "731:\tlearn: 0.5353076\ttotal: 12.9s\tremaining: 4.71s\n",
            "732:\tlearn: 0.5351704\ttotal: 12.9s\tremaining: 4.69s\n",
            "733:\tlearn: 0.5351266\ttotal: 12.9s\tremaining: 4.67s\n",
            "734:\tlearn: 0.5349402\ttotal: 12.9s\tremaining: 4.66s\n",
            "735:\tlearn: 0.5349020\ttotal: 12.9s\tremaining: 4.64s\n",
            "736:\tlearn: 0.5348842\ttotal: 13s\tremaining: 4.62s\n",
            "737:\tlearn: 0.5347574\ttotal: 13s\tremaining: 4.6s\n",
            "738:\tlearn: 0.5347332\ttotal: 13s\tremaining: 4.59s\n",
            "739:\tlearn: 0.5346087\ttotal: 13s\tremaining: 4.57s\n",
            "740:\tlearn: 0.5345163\ttotal: 13s\tremaining: 4.55s\n",
            "741:\tlearn: 0.5343451\ttotal: 13s\tremaining: 4.53s\n",
            "742:\tlearn: 0.5340419\ttotal: 13.1s\tremaining: 4.52s\n",
            "743:\tlearn: 0.5338204\ttotal: 13.1s\tremaining: 4.5s\n",
            "744:\tlearn: 0.5335922\ttotal: 13.1s\tremaining: 4.48s\n",
            "745:\tlearn: 0.5333340\ttotal: 13.1s\tremaining: 4.46s\n",
            "746:\tlearn: 0.5332989\ttotal: 13.1s\tremaining: 4.45s\n",
            "747:\tlearn: 0.5331461\ttotal: 13.2s\tremaining: 4.43s\n",
            "748:\tlearn: 0.5331020\ttotal: 13.2s\tremaining: 4.41s\n",
            "749:\tlearn: 0.5327608\ttotal: 13.2s\tremaining: 4.39s\n",
            "750:\tlearn: 0.5326814\ttotal: 13.2s\tremaining: 4.38s\n",
            "751:\tlearn: 0.5326549\ttotal: 13.2s\tremaining: 4.36s\n",
            "752:\tlearn: 0.5325986\ttotal: 13.2s\tremaining: 4.34s\n",
            "753:\tlearn: 0.5325046\ttotal: 13.3s\tremaining: 4.32s\n",
            "754:\tlearn: 0.5323508\ttotal: 13.3s\tremaining: 4.31s\n",
            "755:\tlearn: 0.5321658\ttotal: 13.3s\tremaining: 4.29s\n",
            "756:\tlearn: 0.5321064\ttotal: 13.3s\tremaining: 4.27s\n",
            "757:\tlearn: 0.5320458\ttotal: 13.3s\tremaining: 4.25s\n",
            "758:\tlearn: 0.5319629\ttotal: 13.3s\tremaining: 4.24s\n",
            "759:\tlearn: 0.5318589\ttotal: 13.4s\tremaining: 4.22s\n",
            "760:\tlearn: 0.5318016\ttotal: 13.4s\tremaining: 4.2s\n",
            "761:\tlearn: 0.5316614\ttotal: 13.4s\tremaining: 4.18s\n",
            "762:\tlearn: 0.5316017\ttotal: 13.4s\tremaining: 4.17s\n",
            "763:\tlearn: 0.5315426\ttotal: 13.4s\tremaining: 4.15s\n",
            "764:\tlearn: 0.5313900\ttotal: 13.4s\tremaining: 4.13s\n",
            "765:\tlearn: 0.5313455\ttotal: 13.5s\tremaining: 4.11s\n",
            "766:\tlearn: 0.5310672\ttotal: 13.5s\tremaining: 4.09s\n",
            "767:\tlearn: 0.5309400\ttotal: 13.5s\tremaining: 4.08s\n",
            "768:\tlearn: 0.5305768\ttotal: 13.5s\tremaining: 4.06s\n",
            "769:\tlearn: 0.5303653\ttotal: 13.5s\tremaining: 4.04s\n",
            "770:\tlearn: 0.5302949\ttotal: 13.6s\tremaining: 4.03s\n",
            "771:\tlearn: 0.5302409\ttotal: 13.6s\tremaining: 4.01s\n",
            "772:\tlearn: 0.5300916\ttotal: 13.6s\tremaining: 3.99s\n",
            "773:\tlearn: 0.5300229\ttotal: 13.6s\tremaining: 3.97s\n",
            "774:\tlearn: 0.5300063\ttotal: 13.6s\tremaining: 3.95s\n",
            "775:\tlearn: 0.5297698\ttotal: 13.6s\tremaining: 3.94s\n",
            "776:\tlearn: 0.5297422\ttotal: 13.7s\tremaining: 3.92s\n",
            "777:\tlearn: 0.5297269\ttotal: 13.7s\tremaining: 3.9s\n",
            "778:\tlearn: 0.5296840\ttotal: 13.7s\tremaining: 3.88s\n",
            "779:\tlearn: 0.5296430\ttotal: 13.7s\tremaining: 3.87s\n",
            "780:\tlearn: 0.5294257\ttotal: 13.7s\tremaining: 3.85s\n",
            "781:\tlearn: 0.5293607\ttotal: 13.7s\tremaining: 3.83s\n",
            "782:\tlearn: 0.5292878\ttotal: 13.8s\tremaining: 3.81s\n",
            "783:\tlearn: 0.5292136\ttotal: 13.8s\tremaining: 3.79s\n",
            "784:\tlearn: 0.5290504\ttotal: 13.8s\tremaining: 3.78s\n",
            "785:\tlearn: 0.5289903\ttotal: 13.8s\tremaining: 3.76s\n",
            "786:\tlearn: 0.5289348\ttotal: 13.9s\tremaining: 3.75s\n",
            "787:\tlearn: 0.5288354\ttotal: 13.9s\tremaining: 3.73s\n",
            "788:\tlearn: 0.5286896\ttotal: 13.9s\tremaining: 3.72s\n",
            "789:\tlearn: 0.5285800\ttotal: 13.9s\tremaining: 3.7s\n",
            "790:\tlearn: 0.5284413\ttotal: 13.9s\tremaining: 3.68s\n",
            "791:\tlearn: 0.5283453\ttotal: 14s\tremaining: 3.67s\n",
            "792:\tlearn: 0.5282111\ttotal: 14s\tremaining: 3.65s\n",
            "793:\tlearn: 0.5281698\ttotal: 14s\tremaining: 3.63s\n",
            "794:\tlearn: 0.5280319\ttotal: 14s\tremaining: 3.61s\n",
            "795:\tlearn: 0.5280150\ttotal: 14s\tremaining: 3.59s\n",
            "796:\tlearn: 0.5279881\ttotal: 14s\tremaining: 3.58s\n",
            "797:\tlearn: 0.5279321\ttotal: 14.1s\tremaining: 3.56s\n",
            "798:\tlearn: 0.5276802\ttotal: 14.1s\tremaining: 3.54s\n",
            "799:\tlearn: 0.5276063\ttotal: 14.1s\tremaining: 3.52s\n",
            "800:\tlearn: 0.5274546\ttotal: 14.1s\tremaining: 3.5s\n",
            "801:\tlearn: 0.5273009\ttotal: 14.1s\tremaining: 3.49s\n",
            "802:\tlearn: 0.5269623\ttotal: 14.1s\tremaining: 3.47s\n",
            "803:\tlearn: 0.5268687\ttotal: 14.2s\tremaining: 3.45s\n",
            "804:\tlearn: 0.5267850\ttotal: 14.2s\tremaining: 3.44s\n",
            "805:\tlearn: 0.5267375\ttotal: 14.2s\tremaining: 3.42s\n",
            "806:\tlearn: 0.5263870\ttotal: 14.2s\tremaining: 3.4s\n",
            "807:\tlearn: 0.5262159\ttotal: 14.2s\tremaining: 3.38s\n",
            "808:\tlearn: 0.5261902\ttotal: 14.3s\tremaining: 3.36s\n",
            "809:\tlearn: 0.5260578\ttotal: 14.3s\tremaining: 3.35s\n",
            "810:\tlearn: 0.5258915\ttotal: 14.3s\tremaining: 3.33s\n",
            "811:\tlearn: 0.5258788\ttotal: 14.3s\tremaining: 3.31s\n",
            "812:\tlearn: 0.5257680\ttotal: 14.3s\tremaining: 3.29s\n",
            "813:\tlearn: 0.5254778\ttotal: 14.3s\tremaining: 3.28s\n",
            "814:\tlearn: 0.5253784\ttotal: 14.4s\tremaining: 3.26s\n",
            "815:\tlearn: 0.5253440\ttotal: 14.4s\tremaining: 3.24s\n",
            "816:\tlearn: 0.5251231\ttotal: 14.4s\tremaining: 3.23s\n",
            "817:\tlearn: 0.5250783\ttotal: 14.4s\tremaining: 3.21s\n",
            "818:\tlearn: 0.5248534\ttotal: 14.4s\tremaining: 3.19s\n",
            "819:\tlearn: 0.5247403\ttotal: 14.5s\tremaining: 3.17s\n",
            "820:\tlearn: 0.5246932\ttotal: 14.5s\tremaining: 3.16s\n",
            "821:\tlearn: 0.5245618\ttotal: 14.5s\tremaining: 3.14s\n",
            "822:\tlearn: 0.5242033\ttotal: 14.5s\tremaining: 3.13s\n",
            "823:\tlearn: 0.5240815\ttotal: 14.6s\tremaining: 3.11s\n",
            "824:\tlearn: 0.5239418\ttotal: 14.6s\tremaining: 3.09s\n",
            "825:\tlearn: 0.5236699\ttotal: 14.6s\tremaining: 3.08s\n",
            "826:\tlearn: 0.5236538\ttotal: 14.6s\tremaining: 3.06s\n",
            "827:\tlearn: 0.5234656\ttotal: 14.6s\tremaining: 3.04s\n",
            "828:\tlearn: 0.5233118\ttotal: 14.7s\tremaining: 3.02s\n",
            "829:\tlearn: 0.5232397\ttotal: 14.7s\tremaining: 3s\n",
            "830:\tlearn: 0.5231063\ttotal: 14.7s\tremaining: 2.99s\n",
            "831:\tlearn: 0.5230373\ttotal: 14.7s\tremaining: 2.97s\n",
            "832:\tlearn: 0.5230093\ttotal: 14.7s\tremaining: 2.95s\n",
            "833:\tlearn: 0.5227956\ttotal: 14.7s\tremaining: 2.93s\n",
            "834:\tlearn: 0.5226363\ttotal: 14.8s\tremaining: 2.92s\n",
            "835:\tlearn: 0.5224801\ttotal: 14.8s\tremaining: 2.9s\n",
            "836:\tlearn: 0.5223929\ttotal: 14.8s\tremaining: 2.88s\n",
            "837:\tlearn: 0.5222168\ttotal: 14.8s\tremaining: 2.86s\n",
            "838:\tlearn: 0.5221879\ttotal: 14.8s\tremaining: 2.85s\n",
            "839:\tlearn: 0.5219878\ttotal: 14.8s\tremaining: 2.83s\n",
            "840:\tlearn: 0.5219277\ttotal: 14.9s\tremaining: 2.81s\n",
            "841:\tlearn: 0.5218380\ttotal: 14.9s\tremaining: 2.79s\n",
            "842:\tlearn: 0.5218107\ttotal: 14.9s\tremaining: 2.77s\n",
            "843:\tlearn: 0.5217816\ttotal: 14.9s\tremaining: 2.76s\n",
            "844:\tlearn: 0.5217308\ttotal: 14.9s\tremaining: 2.74s\n",
            "845:\tlearn: 0.5217143\ttotal: 14.9s\tremaining: 2.72s\n",
            "846:\tlearn: 0.5215606\ttotal: 15s\tremaining: 2.7s\n",
            "847:\tlearn: 0.5214204\ttotal: 15s\tremaining: 2.69s\n",
            "848:\tlearn: 0.5213089\ttotal: 15s\tremaining: 2.67s\n",
            "849:\tlearn: 0.5211759\ttotal: 15s\tremaining: 2.65s\n",
            "850:\tlearn: 0.5209056\ttotal: 15s\tremaining: 2.63s\n",
            "851:\tlearn: 0.5206959\ttotal: 15.1s\tremaining: 2.62s\n",
            "852:\tlearn: 0.5206403\ttotal: 15.1s\tremaining: 2.6s\n",
            "853:\tlearn: 0.5204783\ttotal: 15.1s\tremaining: 2.58s\n",
            "854:\tlearn: 0.5203177\ttotal: 15.1s\tremaining: 2.56s\n",
            "855:\tlearn: 0.5202290\ttotal: 15.1s\tremaining: 2.54s\n",
            "856:\tlearn: 0.5201741\ttotal: 15.1s\tremaining: 2.53s\n",
            "857:\tlearn: 0.5201450\ttotal: 15.2s\tremaining: 2.51s\n",
            "858:\tlearn: 0.5199086\ttotal: 15.2s\tremaining: 2.49s\n",
            "859:\tlearn: 0.5197696\ttotal: 15.2s\tremaining: 2.47s\n",
            "860:\tlearn: 0.5196430\ttotal: 15.2s\tremaining: 2.46s\n",
            "861:\tlearn: 0.5194575\ttotal: 15.2s\tremaining: 2.44s\n",
            "862:\tlearn: 0.5193464\ttotal: 15.2s\tremaining: 2.42s\n",
            "863:\tlearn: 0.5193150\ttotal: 15.3s\tremaining: 2.4s\n",
            "864:\tlearn: 0.5192738\ttotal: 15.3s\tremaining: 2.38s\n",
            "865:\tlearn: 0.5191241\ttotal: 15.3s\tremaining: 2.37s\n",
            "866:\tlearn: 0.5188526\ttotal: 15.3s\tremaining: 2.35s\n",
            "867:\tlearn: 0.5187177\ttotal: 15.3s\tremaining: 2.33s\n",
            "868:\tlearn: 0.5186277\ttotal: 15.4s\tremaining: 2.31s\n",
            "869:\tlearn: 0.5185433\ttotal: 15.4s\tremaining: 2.3s\n",
            "870:\tlearn: 0.5183229\ttotal: 15.4s\tremaining: 2.28s\n",
            "871:\tlearn: 0.5182683\ttotal: 15.4s\tremaining: 2.26s\n",
            "872:\tlearn: 0.5180950\ttotal: 15.4s\tremaining: 2.24s\n",
            "873:\tlearn: 0.5180715\ttotal: 15.4s\tremaining: 2.23s\n",
            "874:\tlearn: 0.5180160\ttotal: 15.5s\tremaining: 2.21s\n",
            "875:\tlearn: 0.5179448\ttotal: 15.5s\tremaining: 2.19s\n",
            "876:\tlearn: 0.5177314\ttotal: 15.5s\tremaining: 2.17s\n",
            "877:\tlearn: 0.5176964\ttotal: 15.5s\tremaining: 2.15s\n",
            "878:\tlearn: 0.5176423\ttotal: 15.5s\tremaining: 2.14s\n",
            "879:\tlearn: 0.5175076\ttotal: 15.5s\tremaining: 2.12s\n",
            "880:\tlearn: 0.5172947\ttotal: 15.6s\tremaining: 2.1s\n",
            "881:\tlearn: 0.5172807\ttotal: 15.6s\tremaining: 2.08s\n",
            "882:\tlearn: 0.5171233\ttotal: 15.6s\tremaining: 2.07s\n",
            "883:\tlearn: 0.5170920\ttotal: 15.6s\tremaining: 2.05s\n",
            "884:\tlearn: 0.5170469\ttotal: 15.6s\tremaining: 2.03s\n",
            "885:\tlearn: 0.5168908\ttotal: 15.6s\tremaining: 2.01s\n",
            "886:\tlearn: 0.5166813\ttotal: 15.7s\tremaining: 2s\n",
            "887:\tlearn: 0.5165822\ttotal: 15.7s\tremaining: 1.98s\n",
            "888:\tlearn: 0.5164992\ttotal: 15.7s\tremaining: 1.96s\n",
            "889:\tlearn: 0.5162543\ttotal: 15.7s\tremaining: 1.94s\n",
            "890:\tlearn: 0.5161098\ttotal: 15.7s\tremaining: 1.93s\n",
            "891:\tlearn: 0.5157775\ttotal: 15.8s\tremaining: 1.91s\n",
            "892:\tlearn: 0.5155997\ttotal: 15.8s\tremaining: 1.89s\n",
            "893:\tlearn: 0.5155476\ttotal: 15.8s\tremaining: 1.87s\n",
            "894:\tlearn: 0.5154352\ttotal: 15.8s\tremaining: 1.85s\n",
            "895:\tlearn: 0.5154171\ttotal: 15.8s\tremaining: 1.84s\n",
            "896:\tlearn: 0.5153519\ttotal: 15.8s\tremaining: 1.82s\n",
            "897:\tlearn: 0.5152142\ttotal: 15.9s\tremaining: 1.8s\n",
            "898:\tlearn: 0.5152083\ttotal: 15.9s\tremaining: 1.78s\n",
            "899:\tlearn: 0.5150816\ttotal: 15.9s\tremaining: 1.77s\n",
            "900:\tlearn: 0.5149724\ttotal: 15.9s\tremaining: 1.75s\n",
            "901:\tlearn: 0.5148145\ttotal: 15.9s\tremaining: 1.73s\n",
            "902:\tlearn: 0.5145910\ttotal: 16s\tremaining: 1.71s\n",
            "903:\tlearn: 0.5145734\ttotal: 16s\tremaining: 1.7s\n",
            "904:\tlearn: 0.5144843\ttotal: 16s\tremaining: 1.68s\n",
            "905:\tlearn: 0.5144371\ttotal: 16s\tremaining: 1.66s\n",
            "906:\tlearn: 0.5143578\ttotal: 16s\tremaining: 1.64s\n",
            "907:\tlearn: 0.5141891\ttotal: 16s\tremaining: 1.63s\n",
            "908:\tlearn: 0.5140647\ttotal: 16.1s\tremaining: 1.61s\n",
            "909:\tlearn: 0.5138914\ttotal: 16.1s\tremaining: 1.59s\n",
            "910:\tlearn: 0.5137614\ttotal: 16.1s\tremaining: 1.57s\n",
            "911:\tlearn: 0.5136449\ttotal: 16.1s\tremaining: 1.55s\n",
            "912:\tlearn: 0.5135906\ttotal: 16.1s\tremaining: 1.54s\n",
            "913:\tlearn: 0.5132274\ttotal: 16.2s\tremaining: 1.52s\n",
            "914:\tlearn: 0.5132126\ttotal: 16.2s\tremaining: 1.5s\n",
            "915:\tlearn: 0.5131721\ttotal: 16.2s\tremaining: 1.48s\n",
            "916:\tlearn: 0.5130897\ttotal: 16.2s\tremaining: 1.47s\n",
            "917:\tlearn: 0.5129975\ttotal: 16.2s\tremaining: 1.45s\n",
            "918:\tlearn: 0.5128963\ttotal: 16.2s\tremaining: 1.43s\n",
            "919:\tlearn: 0.5128727\ttotal: 16.3s\tremaining: 1.41s\n",
            "920:\tlearn: 0.5128220\ttotal: 16.3s\tremaining: 1.4s\n",
            "921:\tlearn: 0.5127341\ttotal: 16.3s\tremaining: 1.38s\n",
            "922:\tlearn: 0.5126580\ttotal: 16.3s\tremaining: 1.36s\n",
            "923:\tlearn: 0.5126340\ttotal: 16.3s\tremaining: 1.34s\n",
            "924:\tlearn: 0.5124890\ttotal: 16.3s\tremaining: 1.32s\n",
            "925:\tlearn: 0.5123815\ttotal: 16.4s\tremaining: 1.31s\n",
            "926:\tlearn: 0.5121604\ttotal: 16.4s\tremaining: 1.29s\n",
            "927:\tlearn: 0.5121134\ttotal: 16.4s\tremaining: 1.27s\n",
            "928:\tlearn: 0.5119088\ttotal: 16.4s\tremaining: 1.25s\n",
            "929:\tlearn: 0.5117053\ttotal: 16.4s\tremaining: 1.24s\n",
            "930:\tlearn: 0.5116433\ttotal: 16.5s\tremaining: 1.22s\n",
            "931:\tlearn: 0.5116058\ttotal: 16.5s\tremaining: 1.2s\n",
            "932:\tlearn: 0.5115475\ttotal: 16.5s\tremaining: 1.18s\n",
            "933:\tlearn: 0.5113844\ttotal: 16.5s\tremaining: 1.17s\n",
            "934:\tlearn: 0.5113198\ttotal: 16.5s\tremaining: 1.15s\n",
            "935:\tlearn: 0.5112703\ttotal: 16.5s\tremaining: 1.13s\n",
            "936:\tlearn: 0.5111328\ttotal: 16.6s\tremaining: 1.11s\n",
            "937:\tlearn: 0.5109445\ttotal: 16.6s\tremaining: 1.09s\n",
            "938:\tlearn: 0.5108034\ttotal: 16.6s\tremaining: 1.08s\n",
            "939:\tlearn: 0.5107587\ttotal: 16.6s\tremaining: 1.06s\n",
            "940:\tlearn: 0.5105451\ttotal: 16.6s\tremaining: 1.04s\n",
            "941:\tlearn: 0.5104940\ttotal: 16.6s\tremaining: 1.02s\n",
            "942:\tlearn: 0.5103855\ttotal: 16.7s\tremaining: 1.01s\n",
            "943:\tlearn: 0.5102714\ttotal: 16.7s\tremaining: 990ms\n",
            "944:\tlearn: 0.5102176\ttotal: 16.7s\tremaining: 972ms\n",
            "945:\tlearn: 0.5099924\ttotal: 16.7s\tremaining: 954ms\n",
            "946:\tlearn: 0.5099742\ttotal: 16.7s\tremaining: 937ms\n",
            "947:\tlearn: 0.5099088\ttotal: 16.8s\tremaining: 919ms\n",
            "948:\tlearn: 0.5097001\ttotal: 16.8s\tremaining: 901ms\n",
            "949:\tlearn: 0.5096115\ttotal: 16.8s\tremaining: 884ms\n",
            "950:\tlearn: 0.5094720\ttotal: 16.8s\tremaining: 866ms\n",
            "951:\tlearn: 0.5093695\ttotal: 16.8s\tremaining: 848ms\n",
            "952:\tlearn: 0.5092393\ttotal: 16.8s\tremaining: 831ms\n",
            "953:\tlearn: 0.5091855\ttotal: 16.9s\tremaining: 813ms\n",
            "954:\tlearn: 0.5091244\ttotal: 16.9s\tremaining: 795ms\n",
            "955:\tlearn: 0.5090845\ttotal: 16.9s\tremaining: 778ms\n",
            "956:\tlearn: 0.5090325\ttotal: 16.9s\tremaining: 760ms\n",
            "957:\tlearn: 0.5089435\ttotal: 16.9s\tremaining: 742ms\n",
            "958:\tlearn: 0.5088652\ttotal: 16.9s\tremaining: 725ms\n",
            "959:\tlearn: 0.5087348\ttotal: 17s\tremaining: 707ms\n",
            "960:\tlearn: 0.5085752\ttotal: 17s\tremaining: 689ms\n",
            "961:\tlearn: 0.5083356\ttotal: 17s\tremaining: 672ms\n",
            "962:\tlearn: 0.5082106\ttotal: 17s\tremaining: 654ms\n",
            "963:\tlearn: 0.5081356\ttotal: 17s\tremaining: 636ms\n",
            "964:\tlearn: 0.5079153\ttotal: 17.1s\tremaining: 619ms\n",
            "965:\tlearn: 0.5079086\ttotal: 17.1s\tremaining: 601ms\n",
            "966:\tlearn: 0.5078273\ttotal: 17.1s\tremaining: 583ms\n",
            "967:\tlearn: 0.5075413\ttotal: 17.1s\tremaining: 566ms\n",
            "968:\tlearn: 0.5073349\ttotal: 17.1s\tremaining: 548ms\n",
            "969:\tlearn: 0.5071016\ttotal: 17.1s\tremaining: 530ms\n",
            "970:\tlearn: 0.5069984\ttotal: 17.2s\tremaining: 513ms\n",
            "971:\tlearn: 0.5068532\ttotal: 17.2s\tremaining: 495ms\n",
            "972:\tlearn: 0.5068228\ttotal: 17.2s\tremaining: 477ms\n",
            "973:\tlearn: 0.5066419\ttotal: 17.2s\tremaining: 460ms\n",
            "974:\tlearn: 0.5066322\ttotal: 17.2s\tremaining: 442ms\n",
            "975:\tlearn: 0.5065591\ttotal: 17.3s\tremaining: 424ms\n",
            "976:\tlearn: 0.5063152\ttotal: 17.3s\tremaining: 407ms\n",
            "977:\tlearn: 0.5062356\ttotal: 17.3s\tremaining: 389ms\n",
            "978:\tlearn: 0.5060997\ttotal: 17.3s\tremaining: 371ms\n",
            "979:\tlearn: 0.5059311\ttotal: 17.3s\tremaining: 354ms\n",
            "980:\tlearn: 0.5058151\ttotal: 17.3s\tremaining: 336ms\n",
            "981:\tlearn: 0.5057689\ttotal: 17.4s\tremaining: 318ms\n",
            "982:\tlearn: 0.5057596\ttotal: 17.4s\tremaining: 301ms\n",
            "983:\tlearn: 0.5056088\ttotal: 17.4s\tremaining: 283ms\n",
            "984:\tlearn: 0.5055514\ttotal: 17.4s\tremaining: 265ms\n",
            "985:\tlearn: 0.5054646\ttotal: 17.4s\tremaining: 248ms\n",
            "986:\tlearn: 0.5054403\ttotal: 17.5s\tremaining: 230ms\n",
            "987:\tlearn: 0.5053828\ttotal: 17.5s\tremaining: 212ms\n",
            "988:\tlearn: 0.5052898\ttotal: 17.5s\tremaining: 195ms\n",
            "989:\tlearn: 0.5051112\ttotal: 17.5s\tremaining: 177ms\n",
            "990:\tlearn: 0.5049850\ttotal: 17.5s\tremaining: 159ms\n",
            "991:\tlearn: 0.5048083\ttotal: 17.6s\tremaining: 142ms\n",
            "992:\tlearn: 0.5047047\ttotal: 17.6s\tremaining: 124ms\n",
            "993:\tlearn: 0.5046306\ttotal: 17.6s\tremaining: 106ms\n",
            "994:\tlearn: 0.5046043\ttotal: 17.6s\tremaining: 88.5ms\n",
            "995:\tlearn: 0.5044154\ttotal: 17.6s\tremaining: 70.8ms\n",
            "996:\tlearn: 0.5041752\ttotal: 17.6s\tremaining: 53.1ms\n",
            "997:\tlearn: 0.5041589\ttotal: 17.7s\tremaining: 35.4ms\n",
            "998:\tlearn: 0.5039851\ttotal: 17.7s\tremaining: 17.7ms\n",
            "999:\tlearn: 0.5037673\ttotal: 17.7s\tremaining: 0us\n"
          ]
        },
        {
          "data": {
            "text/plain": [
              "<catboost.core.CatBoostClassifier at 0x1389d9e50>"
            ]
          },
          "execution_count": 35,
          "metadata": {},
          "output_type": "execute_result"
        }
      ],
      "source": [
        "# <USE IT!>\n",
        "clf = CatBoostClassifier()\n",
        "clf.fit(sparse_data_train, clean_data_train['average_bill'])"
      ]
    },
    {
      "cell_type": "markdown",
      "metadata": {
        "id": "SBOpZY9BGH7Q"
      },
      "source": [
        "**11. Пришлите в Контест balanced_accuracy_score на тестовой выборке, округлённый до двух знаков после запятой**. Стало ли сильно лучше от того, что мы воспользовались таким крутым классификатором?"
      ]
    },
    {
      "cell_type": "code",
      "execution_count": null,
      "metadata": {},
      "outputs": [
        {
          "name": "stdout",
          "output_type": "stream",
          "text": [
            "\n",
            "Balanced Accuracy(CatBoost): 0.36\n"
          ]
        }
      ],
      "source": [
        "y_pred_clf_catboost = clf.predict(sparse_data_test)\n",
        "\n",
        "bacc_catboost = balanced_accuracy_score(y_test, y_pred_clf_catboost)\n",
        "print(f\"\\nBalanced Accuracy (CatBoost): {bacc_catboost:.2f}\")"
      ]
    }
  ],
  "metadata": {
    "colab": {
      "provenance": []
    },
    "kernelspec": {
      "display_name": "venv (3.13.5)",
      "language": "python",
      "name": "python3"
    },
    "language_info": {
      "codemirror_mode": {
        "name": "ipython",
        "version": 3
      },
      "file_extension": ".py",
      "mimetype": "text/x-python",
      "name": "python",
      "nbconvert_exporter": "python",
      "pygments_lexer": "ipython3",
      "version": "3.13.5"
    }
  },
  "nbformat": 4,
  "nbformat_minor": 0
}
